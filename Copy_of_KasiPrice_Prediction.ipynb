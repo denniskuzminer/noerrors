{
  "cells": [
    {
      "cell_type": "markdown",
      "source": [
        "# Preparation"
      ],
      "metadata": {
        "id": "CdSZvV5J2u5m"
      }
    },
    {
      "cell_type": "code",
      "source": [
        "!pip install python-binance\n",
        "!pip install pandas\n",
        "!pip install tabulate\n",
        "!pip install requests_oauthlib"
      ],
      "metadata": {
        "id": "MjxnAAAQmUnQ",
        "colab": {
          "base_uri": "https://localhost:8080/"
        },
        "outputId": "a1e6b2bd-8262-4369-c00b-79aeb52389d8",
        "tags": []
      },
      "execution_count": 47,
      "outputs": [
        {
          "output_type": "stream",
          "name": "stdout",
          "text": "Collecting python-binance\n  Using cached python_binance-1.0.15-py2.py3-none-any.whl (63 kB)\nRequirement already satisfied: ujson in c:\\python310\\lib\\site-packages (from python-binance) (5.1.0)\nCollecting aiohttp\n  Using cached aiohttp-3.8.1-cp310-cp310-win_amd64.whl (555 kB)\nRequirement already satisfied: websockets==9.1 in c:\\python310\\lib\\site-packages (from python-binance) (9.1)\nRequirement already satisfied: six in c:\\python310\\lib\\site-packages (from python-binance) (1.16.0)\nRequirement already satisfied: dateparser in c:\\python310\\lib\\site-packages (from python-binance) (1.1.0)\nRequirement already satisfied: requests in c:\\python310\\lib\\site-packages (from python-binance) (2.26.0)\nRequirement already satisfied: multidict<7.0,>=4.5 in c:\\python310\\lib\\site-packages (from aiohttp->python-binance) (5.2.0)\nRequirement already satisfied: yarl<2.0,>=1.0 in c:\\python310\\lib\\site-packages (from aiohttp->python-binance) (1.7.2)\nRequirement already satisfied: attrs>=17.3.0 in c:\\python310\\lib\\site-packages (from aiohttp->python-binance) (21.2.0)\nRequirement already satisfied: aiosignal>=1.1.2 in c:\\python310\\lib\\site-packages (from aiohttp->python-binance) (1.2.0)\nRequirement already satisfied: charset-normalizer<3.0,>=2.0 in c:\\python310\\lib\\site-packages (from aiohttp->python-binance) (2.0.9)\nRequirement already satisfied: async-timeout<5.0,>=4.0.0a3 in c:\\python310\\lib\\site-packages (from aiohttp->python-binance) (4.0.2)\nRequirement already satisfied: frozenlist>=1.1.1 in c:\\python310\\lib\\site-packages (from aiohttp->python-binance) (1.2.0)\nRequirement already satisfied: idna>=2.0 in c:\\python310\\lib\\site-packages (from yarl<2.0,>=1.0->aiohttp->python-binance) (3.3)\nRequirement already satisfied: python-dateutil in c:\\python310\\lib\\site-packages (from dateparser->python-binance) (2.8.2)\nRequirement already satisfied: tzlocal in c:\\python310\\lib\\site-packages (from dateparser->python-binance) (4.1)\nRequirement already satisfied: regex!=2019.02.19,!=2021.8.27 in c:\\python310\\lib\\site-packages (from dateparser->python-binance) (2021.11.10)\nRequirement already satisfied: pytz in c:\\python310\\lib\\site-packages (from dateparser->python-binance) (2021.3)\nRequirement already satisfied: urllib3<1.27,>=1.21.1 in c:\\python310\\lib\\site-packages (from requests->python-binance) (1.26.7)\nRequirement already satisfied: certifi>=2017.4.17 in c:\\python310\\lib\\site-packages (from requests->python-binance) (2021.10.8)\nRequirement already satisfied: pytz-deprecation-shim in c:\\python310\\lib\\site-packages (from tzlocal->dateparser->python-binance) (0.1.0.post0)\nRequirement already satisfied: tzdata in c:\\python310\\lib\\site-packages (from tzlocal->dateparser->python-binance) (2021.5)\nInstalling collected packages: aiohttp, python-binance\nSuccessfully installed aiohttp-3.8.1 python-binance-1.0.15\nWARNING: You are using pip version 21.2.4; however, version 21.3.1 is available.\nYou should consider upgrading via the 'C:\\Python310\\python.exe -m pip install --upgrade pip' command.\nCollecting pandas\n  Using cached pandas-1.3.5-cp310-cp310-win_amd64.whl (10.2 MB)\nRequirement already satisfied: numpy>=1.21.0 in c:\\python310\\lib\\site-packages (from pandas) (1.21.5)\nRequirement already satisfied: python-dateutil>=2.7.3 in c:\\python310\\lib\\site-packages (from pandas) (2.8.2)\nRequirement already satisfied: pytz>=2017.3 in c:\\python310\\lib\\site-packages (from pandas) (2021.3)\nRequirement already satisfied: six>=1.5 in c:\\python310\\lib\\site-packages (from python-dateutil>=2.7.3->pandas) (1.16.0)\nInstalling collected packages: pandas\nSuccessfully installed pandas-1.3.5\nWARNING: You are using pip version 21.2.4; however, version 21.3.1 is available.\nYou should consider upgrading via the 'C:\\Python310\\python.exe -m pip install --upgrade pip' command.\nRequirement already satisfied: tabulate in c:\\python310\\lib\\site-packages (0.8.9)\nWARNING: You are using pip version 21.2.4; however, version 21.3.1 is available.\nYou should consider upgrading via the 'C:\\Python310\\python.exe -m pip install --upgrade pip' command.\nRequirement already satisfied: requests_oauthlib in c:\\python310\\lib\\site-packages (1.3.0)\nRequirement already satisfied: oauthlib>=3.0.0 in c:\\python310\\lib\\site-packages (from requests_oauthlib) (3.1.1)\nRequirement already satisfied: requests>=2.0.0 in c:\\python310\\lib\\site-packages (from requests_oauthlib) (2.26.0)\nRequirement already satisfied: urllib3<1.27,>=1.21.1 in c:\\python310\\lib\\site-packages (from requests>=2.0.0->requests_oauthlib) (1.26.7)\nRequirement already satisfied: idna<4,>=2.5 in c:\\python310\\lib\\site-packages (from requests>=2.0.0->requests_oauthlib) (3.3)\nRequirement already satisfied: charset-normalizer~=2.0.0 in c:\\python310\\lib\\site-packages (from requests>=2.0.0->requests_oauthlib) (2.0.9)\nRequirement already satisfied: certifi>=2017.4.17 in c:\\python310\\lib\\site-packages (from requests>=2.0.0->requests_oauthlib) (2021.10.8)\nWARNING: You are using pip version 21.2.4; however, version 21.3.1 is available.\nYou should consider upgrading via the 'C:\\Python310\\python.exe -m pip install --upgrade pip' command.\n"
        }
      ]
    },
    {
      "cell_type": "code",
      "source": [
        "!sudo apt-get install python3-dev libmysqlclient-dev > /dev/null\n",
        "!pip install mysqlclient > /dev/null\n",
        "!sudo pip3 install -U sql_magic > /dev/null\n",
        "!pip install psycopg2-binary > /dev/null"
      ],
      "metadata": {
        "id": "GNNlCU2Kj98t",
        "tags": []
      },
      "execution_count": 1,
      "outputs": [
        {
          "output_type": "stream",
          "name": "stderr",
          "text": "The system cannot find the path specified.\nThe system cannot find the path specified.\nThe system cannot find the path specified.\nThe system cannot find the path specified.\n"
        }
      ]
    },
    {
      "cell_type": "code",
      "source": [
        "%matplotlib inline\n",
        "%config InlineBackend.figure_format = 'retina'"
      ],
      "metadata": {
        "id": "vfBxkNp8kATL"
      },
      "execution_count": 57,
      "outputs": []
    },
    {
      "cell_type": "code",
      "source": [
        "import requests\n",
        "import json\n",
        "from datetime import datetime\n",
        "from tabulate import tabulate"
      ],
      "metadata": {
        "id": "U3-wJwigmYUr"
      },
      "execution_count": 58,
      "outputs": []
    },
    {
      "cell_type": "code",
      "execution_count": 59,
      "metadata": {
        "id": "wLR4hPBqjFVa"
      },
      "outputs": [],
      "source": [
        "import pandas as pd\n",
        "import numpy as np\n",
        "import sklearn\n",
        "from sklearn.linear_model import LinearRegression\n",
        "import seaborn as sns\n",
        "from sqlalchemy import create_engine\n",
        "from sqlalchemy import event"
      ]
    },
    {
      "cell_type": "code",
      "source": [
        "\n",
        "from requests_oauthlib import OAuth1\n",
        "from pandas.io.json import json_normalize\n",
        "from datetime import datetime, timedelta\n",
        "from pytz import timezone"
      ],
      "metadata": {
        "id": "1sT7zonvxDBo"
      },
      "execution_count": 60,
      "outputs": []
    },
    {
      "cell_type": "markdown",
      "source": [
        "# Function"
      ],
      "metadata": {
        "id": "pen-pAbZ23uu"
      }
    },
    {
      "cell_type": "markdown",
      "source": [
        "### Cryptocurrency Price"
      ],
      "metadata": {
        "id": "HJ2BvOI526VB"
      }
    },
    {
      "cell_type": "code",
      "source": [
        "validIntervals = ['1m', '3m', '5m', '15m', '30m', '1h', '2h', '4h', '6h', '8h', '12h', '1d', '3d', '1w', '1M']\n",
        "\n",
        "def searchBinance(symbols, startTime='2020-01-01 00:00:00', endTime='2020-12-02 00:00:00', interval='1M'):\n",
        "    if interval not in validIntervals: \n",
        "        raise ValueError('Please enter a valid interval: ' + str(validIntervals))\n",
        "    dfs = []\n",
        "    url = 'https://api.binance.com/api/v3/klines'\n",
        "    for symbol in symbols:\n",
        "        try:\n",
        "            params = {\n",
        "                'symbol': symbol,\n",
        "                'interval': interval,\n",
        "                'limit': 1000,\n",
        "              'startTime': int(datetime.strptime(startTime, '%Y-%m-%d %H:%M:%S').timestamp() * 1000),\n",
        "                'endTime': int(datetime.strptime(endTime, '%Y-%m-%d %H:%M:%S').timestamp() * 1000)\n",
        "            }\n",
        "            response = requests.get(url, params=params)\n",
        "            df = pd.DataFrame(response.json())\n",
        "            df.columns = ['Open time', 'Open', 'High', 'Low', 'Close', 'Volume', 'Close time', 'Quote asset volume', 'Number of trades', 'Taker buy base asset volume', 'Taker buy quote asset volume', 'Ignore']\n",
        "            df['Coin Pair'] = symbol\n",
        "            df['Open time'] = df['Open time'].apply(lambda x: datetime.fromtimestamp(x/1000.0))\n",
        "            df['Close time'] = df['Close time'].apply(lambda x: datetime.fromtimestamp(x/1000.0))\n",
        "            # dfs.append(df[['Coin Pair', 'Open time', 'Open', 'High', 'Low', 'Close', 'Volume', 'Close time']])\n",
        "            dfs.append(df[['Coin Pair', 'Open time', 'Open', 'Close']])\n",
        "        except:\n",
        "            continue\n",
        "    try:\n",
        "        return pd.concat(dfs)\n",
        "    except:\n",
        "        return None\n"
      ],
      "metadata": {
        "id": "HV4rVQGJmc6X"
      },
      "execution_count": 61,
      "outputs": []
    },
    {
      "cell_type": "markdown",
      "source": [
        "### Data Analysis"
      ],
      "metadata": {
        "id": "VZI1ne9C3WNk"
      }
    },
    {
      "cell_type": "code",
      "source": [
        "def cleanNewsData(coin_news_df):\n",
        "  coin_news_df_raw = coin_news_df\n",
        "  coin_news_df_sorted = coin_news_df_raw.sort_values(by=['date_published']).dropna()\n",
        "  coin_news_df_sorted.drop(coin_news_df_sorted[coin_news_df_sorted['anger'] == 'error'].index, inplace = True)\n",
        "  coin_news_df = coin_news_df_sorted.reset_index().drop(columns=['index'])\n",
        "\n",
        "  for i in range(len(coin_news_df)):\n",
        "    coin_news_df['date_published'][i] = str(coin_news_df['date_published'][i])[:10]\n",
        "  coin_news_df = coin_news_df.drop(columns='url').rename(columns={'date_published':'Date','digust':'disgust'})\n",
        "\n",
        "  return coin_news_df\n"
      ],
      "metadata": {
        "id": "RmfP1zonc7lM"
      },
      "execution_count": 62,
      "outputs": []
    },
    {
      "cell_type": "code",
      "source": [
        "def cleanTwitterData(coin_twitter_df):\n",
        "  coin_twitter_df_raw = coin_twitter_df\n",
        "  coin_twitter_df = coin_twitter_df_raw.dropna().reset_index()\n",
        "\n",
        "  for i in range(len(coin_twitter_df)):\n",
        "    coin_twitter_df['created_at'][i] = str(coin_twitter_df['created_at'][i])[:10]\n",
        "  coin_twitter_df = coin_twitter_df.rename(columns={'created_at':'Date', 'digust':'disgust'})\n",
        "  return coin_twitter_df \n"
      ],
      "metadata": {
        "id": "pWKGrhazdBye"
      },
      "execution_count": 63,
      "outputs": []
    },
    {
      "cell_type": "code",
      "source": [
        "def getData(twitter_or_news, coin_symbol):\n",
        "  conn_string = 'mysql://{user}:{password}@{host}:{port}/{db}?charset=utf8'.format(\n",
        "      user=\"noerrors\",\n",
        "      password=\"JXEf1zCCp5c=\",\n",
        "      host=\"jsedocc7.scrc.nyu.edu\",\n",
        "      port=3306,\n",
        "      db=\"NoErrors\",\n",
        "      encoding=\"utf-8\"\n",
        "  )\n",
        "  engine = create_engine(conn_string)  \n",
        " \n",
        "  if twitter_or_news == 'twitter':\n",
        "    query = '''\n",
        "    SELECT * FROM twitter_sentiment\n",
        "    '''\n",
        "    twitter_df = pd.read_sql(query, con=engine)\n",
        "    coin_twitter_df = twitter_df[(twitter_df['coin_name']== coin_symbol)]\n",
        "    coin_data_df = cleanTwitterData(coin_twitter_df)\n",
        "\n",
        "  elif twitter_or_news == 'news':\n",
        "    query = '''\n",
        "    SELECT * FROM news_sentiment\n",
        "    '''\n",
        "    news_df = pd.read_sql(query, con=engine)\n",
        "    coin_news_df = news_df[(news_df['coin_name']== coin_symbol)]  \n",
        "    coin_data_df = cleanNewsData(coin_news_df)  \n",
        "\n",
        "  else:\n",
        "    print('Please enter twitter or news for the first argument')\n",
        "  \n",
        "  return coin_data_df\n",
        "\n",
        "testcoin_data_df = getData('twitter', 'DOGE')\n",
        "testcoin_data_df"
      ],
      "metadata": {
        "id": "EtL6dSOE8sWk",
        "colab": {
          "base_uri": "https://localhost:8080/",
          "height": 510
        },
        "outputId": "ceff1bda-8911-4a12-e466-bc498cbb4a97"
      },
      "execution_count": 64,
      "outputs": [
        {
          "output_type": "execute_result",
          "data": {
            "text/plain": "     index  sentiment_id coin_name       Date            author_id     anger  \\\n0     7549          7550      DOGE 2021-12-11           2435986338  0.049211   \n1     7550          7551      DOGE 2021-12-11  1466339889155239943  0.004049   \n2     7551          7552      DOGE 2021-12-11   980962034421587969  0.004049   \n3     7552          7553      DOGE 2021-12-11  1369496417073438728  0.478327   \n4     7553          7554      DOGE 2021-12-11  1267197215635726336  0.017612   \n..     ...           ...       ...        ...                  ...       ...   \n678   8227          8228      DOGE 2021-12-17  1407030581372858377  0.012346   \n679   8228          8229      DOGE 2021-12-17  1452276873187274763  0.083894   \n680   8229          8230      DOGE 2021-12-17  1246503261730938880  0.241229   \n681   8230          8231      DOGE 2021-12-17  1454604514623954950  0.019555   \n682   8231          8232      DOGE 2021-12-17            178549087  0.083894   \n\n      disgust      fear       joy   sadness     label     score  \n0    0.035718  0.062240  0.082141  0.153572   neutral  0.000000  \n1    0.530035  0.017824  0.343809  0.241921   neutral  0.000000  \n2    0.530035  0.017824  0.343809  0.241921   neutral  0.000000  \n3    0.059836  0.320713  0.255852  0.112219  negative -0.720571  \n4    0.014079  0.039293  0.316694  0.093051   neutral  0.000000  \n..        ...       ...       ...       ...       ...       ...  \n678  0.159198  0.078144  0.636822  0.086213  positive  0.843416  \n679  0.020413  0.016207  0.401257  0.229325  negative -0.393949  \n680  0.195034  0.061266  0.382953  0.199295  negative -0.751249  \n681  0.270080  0.036131  0.501483  0.169975  positive  0.921830  \n682  0.020413  0.016207  0.401257  0.229325  negative -0.393949  \n\n[683 rows x 12 columns]",
            "text/html": "<div>\n<style scoped>\n    .dataframe tbody tr th:only-of-type {\n        vertical-align: middle;\n    }\n\n    .dataframe tbody tr th {\n        vertical-align: top;\n    }\n\n    .dataframe thead th {\n        text-align: right;\n    }\n</style>\n<table border=\"1\" class=\"dataframe\">\n  <thead>\n    <tr style=\"text-align: right;\">\n      <th></th>\n      <th>index</th>\n      <th>sentiment_id</th>\n      <th>coin_name</th>\n      <th>Date</th>\n      <th>author_id</th>\n      <th>anger</th>\n      <th>disgust</th>\n      <th>fear</th>\n      <th>joy</th>\n      <th>sadness</th>\n      <th>label</th>\n      <th>score</th>\n    </tr>\n  </thead>\n  <tbody>\n    <tr>\n      <th>0</th>\n      <td>7549</td>\n      <td>7550</td>\n      <td>DOGE</td>\n      <td>2021-12-11</td>\n      <td>2435986338</td>\n      <td>0.049211</td>\n      <td>0.035718</td>\n      <td>0.062240</td>\n      <td>0.082141</td>\n      <td>0.153572</td>\n      <td>neutral</td>\n      <td>0.000000</td>\n    </tr>\n    <tr>\n      <th>1</th>\n      <td>7550</td>\n      <td>7551</td>\n      <td>DOGE</td>\n      <td>2021-12-11</td>\n      <td>1466339889155239943</td>\n      <td>0.004049</td>\n      <td>0.530035</td>\n      <td>0.017824</td>\n      <td>0.343809</td>\n      <td>0.241921</td>\n      <td>neutral</td>\n      <td>0.000000</td>\n    </tr>\n    <tr>\n      <th>2</th>\n      <td>7551</td>\n      <td>7552</td>\n      <td>DOGE</td>\n      <td>2021-12-11</td>\n      <td>980962034421587969</td>\n      <td>0.004049</td>\n      <td>0.530035</td>\n      <td>0.017824</td>\n      <td>0.343809</td>\n      <td>0.241921</td>\n      <td>neutral</td>\n      <td>0.000000</td>\n    </tr>\n    <tr>\n      <th>3</th>\n      <td>7552</td>\n      <td>7553</td>\n      <td>DOGE</td>\n      <td>2021-12-11</td>\n      <td>1369496417073438728</td>\n      <td>0.478327</td>\n      <td>0.059836</td>\n      <td>0.320713</td>\n      <td>0.255852</td>\n      <td>0.112219</td>\n      <td>negative</td>\n      <td>-0.720571</td>\n    </tr>\n    <tr>\n      <th>4</th>\n      <td>7553</td>\n      <td>7554</td>\n      <td>DOGE</td>\n      <td>2021-12-11</td>\n      <td>1267197215635726336</td>\n      <td>0.017612</td>\n      <td>0.014079</td>\n      <td>0.039293</td>\n      <td>0.316694</td>\n      <td>0.093051</td>\n      <td>neutral</td>\n      <td>0.000000</td>\n    </tr>\n    <tr>\n      <th>...</th>\n      <td>...</td>\n      <td>...</td>\n      <td>...</td>\n      <td>...</td>\n      <td>...</td>\n      <td>...</td>\n      <td>...</td>\n      <td>...</td>\n      <td>...</td>\n      <td>...</td>\n      <td>...</td>\n      <td>...</td>\n    </tr>\n    <tr>\n      <th>678</th>\n      <td>8227</td>\n      <td>8228</td>\n      <td>DOGE</td>\n      <td>2021-12-17</td>\n      <td>1407030581372858377</td>\n      <td>0.012346</td>\n      <td>0.159198</td>\n      <td>0.078144</td>\n      <td>0.636822</td>\n      <td>0.086213</td>\n      <td>positive</td>\n      <td>0.843416</td>\n    </tr>\n    <tr>\n      <th>679</th>\n      <td>8228</td>\n      <td>8229</td>\n      <td>DOGE</td>\n      <td>2021-12-17</td>\n      <td>1452276873187274763</td>\n      <td>0.083894</td>\n      <td>0.020413</td>\n      <td>0.016207</td>\n      <td>0.401257</td>\n      <td>0.229325</td>\n      <td>negative</td>\n      <td>-0.393949</td>\n    </tr>\n    <tr>\n      <th>680</th>\n      <td>8229</td>\n      <td>8230</td>\n      <td>DOGE</td>\n      <td>2021-12-17</td>\n      <td>1246503261730938880</td>\n      <td>0.241229</td>\n      <td>0.195034</td>\n      <td>0.061266</td>\n      <td>0.382953</td>\n      <td>0.199295</td>\n      <td>negative</td>\n      <td>-0.751249</td>\n    </tr>\n    <tr>\n      <th>681</th>\n      <td>8230</td>\n      <td>8231</td>\n      <td>DOGE</td>\n      <td>2021-12-17</td>\n      <td>1454604514623954950</td>\n      <td>0.019555</td>\n      <td>0.270080</td>\n      <td>0.036131</td>\n      <td>0.501483</td>\n      <td>0.169975</td>\n      <td>positive</td>\n      <td>0.921830</td>\n    </tr>\n    <tr>\n      <th>682</th>\n      <td>8231</td>\n      <td>8232</td>\n      <td>DOGE</td>\n      <td>2021-12-17</td>\n      <td>178549087</td>\n      <td>0.083894</td>\n      <td>0.020413</td>\n      <td>0.016207</td>\n      <td>0.401257</td>\n      <td>0.229325</td>\n      <td>negative</td>\n      <td>-0.393949</td>\n    </tr>\n  </tbody>\n</table>\n<p>683 rows × 12 columns</p>\n</div>"
          },
          "metadata": {},
          "execution_count": 64
        }
      ]
    },
    {
      "cell_type": "code",
      "source": [
        "def getPriceData(coin_news_df, coin_name_binance):\n",
        "  start_time = str(coin_news_df['Date'][0])# + ' 00:00:00'\n",
        "  end_time = str(coin_news_df['Date'][len(coin_news_df)-1])# + ' 00:00:00'\n",
        "  coin_price_df_raw = searchBinance([coin_name_binance], startTime= start_time, endTime= end_time, interval='1d')\n",
        "  coin_price_df = coin_price_df_raw.drop(columns=['Coin Pair']).rename(columns={'Open time':'Date', 'Close':'Price'})\n",
        "  return coin_price_df\n"
      ],
      "metadata": {
        "id": "zuZzFNiwl7iM"
      },
      "execution_count": 77,
      "outputs": []
    },
    {
      "cell_type": "code",
      "source": [
        "def combineSentPrice(coin_news_df, coin_price_df):\n",
        "  coin_price_news_df = coin_news_df.copy()\n",
        "  coin_price_news_df['Price'] = np.nan\n",
        "\n",
        "  coin_news_df['Date'] = pd.to_datetime(coin_news_df['Date'])\n",
        "\n",
        "  for i in range(len(coin_news_df)):\n",
        "    price_row = coin_price_df.loc[coin_price_df['Date'] == coin_news_df['Date'][i]]\n",
        "    try:\n",
        "      price_index = list(price_row.to_dict()['Price'].keys())[0]\n",
        "      price = coin_price_df['Price'][price_index]\n",
        "      coin_price_news_df.at[i, 'Price'] = price\n",
        "    except:\n",
        "      continue\n",
        "\n",
        "  coin_price_news_df.dropna(subset=['Price'], inplace=True)\n",
        "\n",
        "  return coin_price_news_df\n"
      ],
      "metadata": {
        "id": "NqKNjakzmjU1"
      },
      "execution_count": 66,
      "outputs": []
    },
    {
      "cell_type": "code",
      "source": [
        "def dataAnalysis(coin_price_news_df):\n",
        "\n",
        "  coin_price_news_df['anger'] = pd.to_numeric(coin_price_news_df['anger'])\n",
        "  coin_price_news_df['disgust'] = pd.to_numeric(coin_price_news_df['disgust'])\n",
        "  coin_price_news_df['fear'] = pd.to_numeric(coin_price_news_df['fear'])\n",
        "  coin_price_news_df['joy'] = pd.to_numeric(coin_price_news_df['joy'])\n",
        "  coin_price_news_df['sadness'] = pd.to_numeric(coin_price_news_df['sadness'])\n",
        "\n",
        "  X = coin_price_news_df[[\"anger\", \"disgust\", \"fear\", \"joy\", 'sadness']]\n",
        "  y = coin_price_news_df.Price\n",
        "  lr = LinearRegression()\n",
        "  lr.fit(X, y)\n",
        "\n",
        "  coefficient_intercept = np.append(lr.coef_, lr.intercept_)\n",
        "  coin_price_news_df['intercept'] = np.nan\n",
        "  format_dict = {'anger':[], 'disgust': [], 'fear':[], 'joy':[], 'sadness':[], 'intercept':[]}\n",
        "  format_df = pd.DataFrame(format_dict)\n",
        "\n",
        "  regression_df = pd.DataFrame(zip(format_df.columns[0:], coefficient_intercept), columns = [\"sentiments\", \"coefficients\"])\n",
        "  regression_df\n",
        "\n",
        "  return lr\n"
      ],
      "metadata": {
        "id": "TBBNarahmmJH"
      },
      "execution_count": 67,
      "outputs": []
    },
    {
      "cell_type": "markdown",
      "source": [
        "### Get twitter info today"
      ],
      "metadata": {
        "id": "4ltmR6bH3Iv0"
      }
    },
    {
      "cell_type": "code",
      "source": [
        "consumer_key = '2GEDtzlFMJK6agAMkPQoVTwnl'\n",
        "consumer_secret = '9TvdpLsvdZDbUrihxDd2LUh02P3moWewdAWqTeupJH90SxPkoi'\n",
        "access_token = '1241443545975791617-Qy2ioSjn5qmKfHN17bSKV1RhWv19et'\n",
        "access_secret = 'asmAhYweQTDavRPwrs3FkdJd3557g76rcyksDNGT3b9Nx'\n",
        "\n",
        "auth = OAuth1(consumer_key, consumer_secret, access_token, access_secret)"
      ],
      "metadata": {
        "id": "fWcB4XzGw_iH"
      },
      "execution_count": 68,
      "outputs": []
    },
    {
      "cell_type": "code",
      "source": [
        "bearer_token = 'AAAAAAAAAAAAAAAAAAAAANNrMgEAAAAAauW1AUNHTT0LpndAup%2FVN3XJq6U%3Dj1Xk8EJ53dd7Lqwuzjhre9SGvuFebeJtitOOphYKhawST8keZU'"
      ],
      "metadata": {
        "id": "uHjCLUawlstP"
      },
      "execution_count": 69,
      "outputs": []
    },
    {
      "cell_type": "code",
      "source": [
        "def getSentimentTwitter(text):\n",
        "    endpoint = 'https://api.us-east.natural-language-understanding.watson.cloud.ibm.com/instances/d1c5c268-9db4-43a1-aa7d-b8ecaf566cc2/v1/analyze'\n",
        "    username = \"apikey\"\n",
        "    password = \"Awa31seHtH1zVbGgt_cPK0lJkCHIqJIHsxaQBMqBEmKK\"\n",
        "    parameters = {\n",
        "        'features': 'emotion,sentiment',\n",
        "        'version' : '2021-08-01',\n",
        "        'text': text,\n",
        "        'language' : 'en',\n",
        "    }\n",
        "    resp = requests.get(endpoint, params=parameters, auth=(username, password))\n",
        "    if resp.status_code != 400:\n",
        "      emotion = resp.json()['emotion']['document']['emotion']\n",
        "      sentiment = resp.json()['sentiment']['document']\n",
        "      emotion.update(sentiment)\n",
        "      return emotion\n",
        "    else:\n",
        "      return None"
      ],
      "metadata": {
        "id": "W_4nGvznls-y"
      },
      "execution_count": 70,
      "outputs": []
    },
    {
      "cell_type": "code",
      "source": [
        "def getTwitterSentToday(coin):\n",
        "\n",
        "  tz = timezone('EST')\n",
        "  current_time = datetime.now(tz)\n",
        "  formatted_current_time = current_time.strftime(\"%Y-%m-%dT%H:%M:%S.000Z\")\n",
        "\n",
        "  yesterday = current_time - timedelta(days=1)\n",
        "  yesterday.strftime(\"%Y-%m-%dT%H:%M:%S.000Z\")\n",
        "  formatted_yesterday_time = yesterday.strftime(\"%Y-%m-%dT%H:%M:%S.000Z\")\n",
        "\n",
        "  twitter_search_endpoint = 'https://api.twitter.com/2/tweets/search/recent'\n",
        "  parameters  = {\n",
        "    'query' : coin,\n",
        "    'tweet.fields' : 'text,author_id,created_at,public_metrics',\n",
        "    'start_time' : formatted_yesterday_time,\n",
        "    'end_time' : formatted_current_time,\n",
        "    'max_results' : 100\n",
        "}\n",
        "\n",
        "  res = requests.get(twitter_search_endpoint, auth=auth, params=parameters)\n",
        "\n",
        "  tweets = res.json()\n",
        "  tweets = tweets['data']\n",
        "\n",
        "  date = []\n",
        "  author = []\n",
        "  text = []\n",
        "  for i in range(len(tweets)):\n",
        "    date.append(tweets[i]['created_at'])\n",
        "    author.append(tweets[i]['author_id'])\n",
        "    text.append(tweets[i]['text'])\n",
        "\n",
        "  full_article = []\n",
        "  \n",
        "  for i in range(len(tweets)):\n",
        "    article = ''\n",
        "    article += tweets[i]['text']\n",
        "    full_article.append(str(article))\n",
        "\n",
        "\n",
        "  my_dict = {'created_at' : [],\n",
        "            'author_id' : [],\n",
        "            'text': [],\n",
        "           'anger' : [],\n",
        "           'disgust' : [],\n",
        "            'fear' : [],\n",
        "           'joy' : [],\n",
        "           'sadness': [],\n",
        "           'label': [],\n",
        "           'score': []\n",
        "           }\n",
        "  for i in range(len(full_article)):\n",
        "    text_emotion = getSentimentTwitter(full_article[i])\n",
        "    my_dict['created_at'].append(date[i])\n",
        "    my_dict['author_id'].append(author[i])\n",
        "    my_dict['text'].append(text[i])\n",
        "\n",
        "    my_dict['anger'].append(text_emotion['anger'])\n",
        "    my_dict['disgust'].append(text_emotion['disgust'])\n",
        "    my_dict['fear'].append(text_emotion['fear'])\n",
        "    my_dict['joy'].append(text_emotion['joy'])\n",
        "    my_dict['sadness'].append(text_emotion['sadness'])\n",
        "    my_dict['label'].append(text_emotion['label'])\n",
        "    my_dict['score'].append(text_emotion['score'])\n",
        "\n",
        "\n",
        "    df = pd.DataFrame.from_dict(my_dict)\n",
        "  return df\n"
      ],
      "metadata": {
        "id": "6vB-j5M2x20J"
      },
      "execution_count": 71,
      "outputs": []
    },
    {
      "cell_type": "markdown",
      "source": [
        "### Predicted Range"
      ],
      "metadata": {
        "id": "RUIyMLYPdv5_"
      }
    },
    {
      "cell_type": "code",
      "source": [
        "def getPredictedRange(lr, coin_today_df):\n",
        "  X = coin_today_df[[\"anger\", \"disgust\", \"fear\", \"joy\", 'sadness']]\n",
        "  y_hat = lr.predict(X)\n",
        "  return max(y_hat), min(y_hat)  \n"
      ],
      "metadata": {
        "id": "v3E2NAMSdjd2"
      },
      "execution_count": 72,
      "outputs": []
    },
    {
      "cell_type": "markdown",
      "source": [
        "### Main"
      ],
      "metadata": {
        "id": "gNojQKtieeU5"
      }
    },
    {
      "cell_type": "code",
      "source": [
        "def main(twitter_or_news, coin_symbol, coin_name):\n",
        "  coin_data_df = getData(twitter_or_news, coin_symbol)\n",
        "\n",
        "  coin_name_bin = coin_symbol + 'USDT'\n",
        "  coin_price_df = getPriceData(coin_data_df, coin_name_bin)\n",
        "  coin_price_data_df = combineSentPrice(coin_data_df, coin_price_df)\n",
        "\n",
        "  lr = dataAnalysis(coin_price_data_df)\n",
        "  coin_today_df = getTwitterSentToday(coin_name)\n",
        "\n",
        "  range = getPredictedRange(lr, coin_today_df)\n",
        "\n",
        "  return range"
      ],
      "metadata": {
        "id": "YhIJm5jYedxp"
      },
      "execution_count": 73,
      "outputs": []
    },
    {
      "cell_type": "markdown",
      "source": [
        "# Test"
      ],
      "metadata": {
        "id": "yvutdaVceJs-"
      }
    },
    {
      "cell_type": "code",
      "source": [
        "main('twitter','XRP','XRP')"
      ],
      "metadata": {
        "colab": {
          "base_uri": "https://localhost:8080/"
        },
        "id": "BB4MtXh0ZU-X",
        "outputId": "0f381051-6e90-4061-b7a0-135aff006eaa"
      },
      "execution_count": 78,
      "outputs": [
        {
          "output_type": "error",
          "ename": "ValueError",
          "evalue": "Found array with 0 sample(s) (shape=(0, 5)) while a minimum of 1 is required.",
          "traceback": [
            "\u001b[1;31m---------------------------------------------------------------------------\u001b[0m",
            "\u001b[1;31mValueError\u001b[0m                                Traceback (most recent call last)",
            "\u001b[1;32m<ipython-input-78-42d7d8478eb5>\u001b[0m in \u001b[0;36m<module>\u001b[1;34m\u001b[0m\n\u001b[1;32m----> 1\u001b[1;33m \u001b[0mmain\u001b[0m\u001b[1;33m(\u001b[0m\u001b[1;34m'twitter'\u001b[0m\u001b[1;33m,\u001b[0m\u001b[1;34m'XRP'\u001b[0m\u001b[1;33m,\u001b[0m\u001b[1;34m'XRP'\u001b[0m\u001b[1;33m)\u001b[0m\u001b[1;33m\u001b[0m\u001b[1;33m\u001b[0m\u001b[0m\n\u001b[0m",
            "\u001b[1;32m<ipython-input-73-e44b17a937cd>\u001b[0m in \u001b[0;36mmain\u001b[1;34m(twitter_or_news, coin_symbol, coin_name)\u001b[0m\n\u001b[0;32m      6\u001b[0m   \u001b[0mcoin_price_data_df\u001b[0m \u001b[1;33m=\u001b[0m \u001b[0mcombineSentPrice\u001b[0m\u001b[1;33m(\u001b[0m\u001b[0mcoin_data_df\u001b[0m\u001b[1;33m,\u001b[0m \u001b[0mcoin_price_df\u001b[0m\u001b[1;33m)\u001b[0m\u001b[1;33m\u001b[0m\u001b[1;33m\u001b[0m\u001b[0m\n\u001b[0;32m      7\u001b[0m \u001b[1;33m\u001b[0m\u001b[0m\n\u001b[1;32m----> 8\u001b[1;33m   \u001b[0mlr\u001b[0m \u001b[1;33m=\u001b[0m \u001b[0mdataAnalysis\u001b[0m\u001b[1;33m(\u001b[0m\u001b[0mcoin_price_data_df\u001b[0m\u001b[1;33m)\u001b[0m\u001b[1;33m\u001b[0m\u001b[1;33m\u001b[0m\u001b[0m\n\u001b[0m\u001b[0;32m      9\u001b[0m   \u001b[0mcoin_today_df\u001b[0m \u001b[1;33m=\u001b[0m \u001b[0mgetTwitterSentToday\u001b[0m\u001b[1;33m(\u001b[0m\u001b[0mcoin_name\u001b[0m\u001b[1;33m)\u001b[0m\u001b[1;33m\u001b[0m\u001b[1;33m\u001b[0m\u001b[0m\n\u001b[0;32m     10\u001b[0m \u001b[1;33m\u001b[0m\u001b[0m\n",
            "\u001b[1;32m<ipython-input-67-7cf2d54eaa39>\u001b[0m in \u001b[0;36mdataAnalysis\u001b[1;34m(coin_price_news_df)\u001b[0m\n\u001b[0;32m     10\u001b[0m   \u001b[0my\u001b[0m \u001b[1;33m=\u001b[0m \u001b[0mcoin_price_news_df\u001b[0m\u001b[1;33m.\u001b[0m\u001b[0mPrice\u001b[0m\u001b[1;33m\u001b[0m\u001b[1;33m\u001b[0m\u001b[0m\n\u001b[0;32m     11\u001b[0m   \u001b[0mlr\u001b[0m \u001b[1;33m=\u001b[0m \u001b[0mLinearRegression\u001b[0m\u001b[1;33m(\u001b[0m\u001b[1;33m)\u001b[0m\u001b[1;33m\u001b[0m\u001b[1;33m\u001b[0m\u001b[0m\n\u001b[1;32m---> 12\u001b[1;33m   \u001b[0mlr\u001b[0m\u001b[1;33m.\u001b[0m\u001b[0mfit\u001b[0m\u001b[1;33m(\u001b[0m\u001b[0mX\u001b[0m\u001b[1;33m,\u001b[0m \u001b[0my\u001b[0m\u001b[1;33m)\u001b[0m\u001b[1;33m\u001b[0m\u001b[1;33m\u001b[0m\u001b[0m\n\u001b[0m\u001b[0;32m     13\u001b[0m \u001b[1;33m\u001b[0m\u001b[0m\n\u001b[0;32m     14\u001b[0m   \u001b[0mcoefficient_intercept\u001b[0m \u001b[1;33m=\u001b[0m \u001b[0mnp\u001b[0m\u001b[1;33m.\u001b[0m\u001b[0mappend\u001b[0m\u001b[1;33m(\u001b[0m\u001b[0mlr\u001b[0m\u001b[1;33m.\u001b[0m\u001b[0mcoef_\u001b[0m\u001b[1;33m,\u001b[0m \u001b[0mlr\u001b[0m\u001b[1;33m.\u001b[0m\u001b[0mintercept_\u001b[0m\u001b[1;33m)\u001b[0m\u001b[1;33m\u001b[0m\u001b[1;33m\u001b[0m\u001b[0m\n",
            "\u001b[1;32m~\\AppData\\Local\\Programs\\Python\\Python38\\lib\\site-packages\\sklearn\\linear_model\\_base.py\u001b[0m in \u001b[0;36mfit\u001b[1;34m(self, X, y, sample_weight)\u001b[0m\n\u001b[0;32m    660\u001b[0m         \u001b[0maccept_sparse\u001b[0m \u001b[1;33m=\u001b[0m \u001b[1;32mFalse\u001b[0m \u001b[1;32mif\u001b[0m \u001b[0mself\u001b[0m\u001b[1;33m.\u001b[0m\u001b[0mpositive\u001b[0m \u001b[1;32melse\u001b[0m \u001b[1;33m[\u001b[0m\u001b[1;34m\"csr\"\u001b[0m\u001b[1;33m,\u001b[0m \u001b[1;34m\"csc\"\u001b[0m\u001b[1;33m,\u001b[0m \u001b[1;34m\"coo\"\u001b[0m\u001b[1;33m]\u001b[0m\u001b[1;33m\u001b[0m\u001b[1;33m\u001b[0m\u001b[0m\n\u001b[0;32m    661\u001b[0m \u001b[1;33m\u001b[0m\u001b[0m\n\u001b[1;32m--> 662\u001b[1;33m         X, y = self._validate_data(\n\u001b[0m\u001b[0;32m    663\u001b[0m             \u001b[0mX\u001b[0m\u001b[1;33m,\u001b[0m \u001b[0my\u001b[0m\u001b[1;33m,\u001b[0m \u001b[0maccept_sparse\u001b[0m\u001b[1;33m=\u001b[0m\u001b[0maccept_sparse\u001b[0m\u001b[1;33m,\u001b[0m \u001b[0my_numeric\u001b[0m\u001b[1;33m=\u001b[0m\u001b[1;32mTrue\u001b[0m\u001b[1;33m,\u001b[0m \u001b[0mmulti_output\u001b[0m\u001b[1;33m=\u001b[0m\u001b[1;32mTrue\u001b[0m\u001b[1;33m\u001b[0m\u001b[1;33m\u001b[0m\u001b[0m\n\u001b[0;32m    664\u001b[0m         )\n",
            "\u001b[1;32m~\\AppData\\Local\\Programs\\Python\\Python38\\lib\\site-packages\\sklearn\\base.py\u001b[0m in \u001b[0;36m_validate_data\u001b[1;34m(self, X, y, reset, validate_separately, **check_params)\u001b[0m\n\u001b[0;32m    574\u001b[0m                 \u001b[0my\u001b[0m \u001b[1;33m=\u001b[0m \u001b[0mcheck_array\u001b[0m\u001b[1;33m(\u001b[0m\u001b[0my\u001b[0m\u001b[1;33m,\u001b[0m \u001b[1;33m**\u001b[0m\u001b[0mcheck_y_params\u001b[0m\u001b[1;33m)\u001b[0m\u001b[1;33m\u001b[0m\u001b[1;33m\u001b[0m\u001b[0m\n\u001b[0;32m    575\u001b[0m             \u001b[1;32melse\u001b[0m\u001b[1;33m:\u001b[0m\u001b[1;33m\u001b[0m\u001b[1;33m\u001b[0m\u001b[0m\n\u001b[1;32m--> 576\u001b[1;33m                 \u001b[0mX\u001b[0m\u001b[1;33m,\u001b[0m \u001b[0my\u001b[0m \u001b[1;33m=\u001b[0m \u001b[0mcheck_X_y\u001b[0m\u001b[1;33m(\u001b[0m\u001b[0mX\u001b[0m\u001b[1;33m,\u001b[0m \u001b[0my\u001b[0m\u001b[1;33m,\u001b[0m \u001b[1;33m**\u001b[0m\u001b[0mcheck_params\u001b[0m\u001b[1;33m)\u001b[0m\u001b[1;33m\u001b[0m\u001b[1;33m\u001b[0m\u001b[0m\n\u001b[0m\u001b[0;32m    577\u001b[0m             \u001b[0mout\u001b[0m \u001b[1;33m=\u001b[0m \u001b[0mX\u001b[0m\u001b[1;33m,\u001b[0m \u001b[0my\u001b[0m\u001b[1;33m\u001b[0m\u001b[1;33m\u001b[0m\u001b[0m\n\u001b[0;32m    578\u001b[0m \u001b[1;33m\u001b[0m\u001b[0m\n",
            "\u001b[1;32m~\\AppData\\Local\\Programs\\Python\\Python38\\lib\\site-packages\\sklearn\\utils\\validation.py\u001b[0m in \u001b[0;36mcheck_X_y\u001b[1;34m(X, y, accept_sparse, accept_large_sparse, dtype, order, copy, force_all_finite, ensure_2d, allow_nd, multi_output, ensure_min_samples, ensure_min_features, y_numeric, estimator)\u001b[0m\n\u001b[0;32m    954\u001b[0m         \u001b[1;32mraise\u001b[0m \u001b[0mValueError\u001b[0m\u001b[1;33m(\u001b[0m\u001b[1;34m\"y cannot be None\"\u001b[0m\u001b[1;33m)\u001b[0m\u001b[1;33m\u001b[0m\u001b[1;33m\u001b[0m\u001b[0m\n\u001b[0;32m    955\u001b[0m \u001b[1;33m\u001b[0m\u001b[0m\n\u001b[1;32m--> 956\u001b[1;33m     X = check_array(\n\u001b[0m\u001b[0;32m    957\u001b[0m         \u001b[0mX\u001b[0m\u001b[1;33m,\u001b[0m\u001b[1;33m\u001b[0m\u001b[1;33m\u001b[0m\u001b[0m\n\u001b[0;32m    958\u001b[0m         \u001b[0maccept_sparse\u001b[0m\u001b[1;33m=\u001b[0m\u001b[0maccept_sparse\u001b[0m\u001b[1;33m,\u001b[0m\u001b[1;33m\u001b[0m\u001b[1;33m\u001b[0m\u001b[0m\n",
            "\u001b[1;32m~\\AppData\\Local\\Programs\\Python\\Python38\\lib\\site-packages\\sklearn\\utils\\validation.py\u001b[0m in \u001b[0;36mcheck_array\u001b[1;34m(array, accept_sparse, accept_large_sparse, dtype, order, copy, force_all_finite, ensure_2d, allow_nd, ensure_min_samples, ensure_min_features, estimator)\u001b[0m\n\u001b[0;32m    795\u001b[0m         \u001b[0mn_samples\u001b[0m \u001b[1;33m=\u001b[0m \u001b[0m_num_samples\u001b[0m\u001b[1;33m(\u001b[0m\u001b[0marray\u001b[0m\u001b[1;33m)\u001b[0m\u001b[1;33m\u001b[0m\u001b[1;33m\u001b[0m\u001b[0m\n\u001b[0;32m    796\u001b[0m         \u001b[1;32mif\u001b[0m \u001b[0mn_samples\u001b[0m \u001b[1;33m<\u001b[0m \u001b[0mensure_min_samples\u001b[0m\u001b[1;33m:\u001b[0m\u001b[1;33m\u001b[0m\u001b[1;33m\u001b[0m\u001b[0m\n\u001b[1;32m--> 797\u001b[1;33m             raise ValueError(\n\u001b[0m\u001b[0;32m    798\u001b[0m                 \u001b[1;34m\"Found array with %d sample(s) (shape=%s) while a\"\u001b[0m\u001b[1;33m\u001b[0m\u001b[1;33m\u001b[0m\u001b[0m\n\u001b[0;32m    799\u001b[0m                 \u001b[1;34m\" minimum of %d is required%s.\"\u001b[0m\u001b[1;33m\u001b[0m\u001b[1;33m\u001b[0m\u001b[0m\n",
            "\u001b[1;31mValueError\u001b[0m: Found array with 0 sample(s) (shape=(0, 5)) while a minimum of 1 is required."
          ]
        }
      ]
    },
    {
      "cell_type": "code",
      "source": [
        "main('news','ETH','ethereum')"
      ],
      "metadata": {
        "colab": {
          "base_uri": "https://localhost:8080/",
          "height": 398
        },
        "id": "vD-MPePuxziI",
        "outputId": "ebdcc3ea-6da2-41c6-c756-17ad4f2868aa"
      },
      "execution_count": 75,
      "outputs": [
        {
          "output_type": "error",
          "ename": "AttributeError",
          "evalue": "'NoneType' object has no attribute 'drop'",
          "traceback": [
            "\u001b[1;31m---------------------------------------------------------------------------\u001b[0m",
            "\u001b[1;31mAttributeError\u001b[0m                            Traceback (most recent call last)",
            "\u001b[1;32m<ipython-input-75-d550bcaa6b07>\u001b[0m in \u001b[0;36m<module>\u001b[1;34m\u001b[0m\n\u001b[1;32m----> 1\u001b[1;33m \u001b[0mmain\u001b[0m\u001b[1;33m(\u001b[0m\u001b[1;34m'news'\u001b[0m\u001b[1;33m,\u001b[0m\u001b[1;34m'ETH'\u001b[0m\u001b[1;33m,\u001b[0m\u001b[1;34m'ethereum'\u001b[0m\u001b[1;33m)\u001b[0m\u001b[1;33m\u001b[0m\u001b[1;33m\u001b[0m\u001b[0m\n\u001b[0m",
            "\u001b[1;32m<ipython-input-73-e44b17a937cd>\u001b[0m in \u001b[0;36mmain\u001b[1;34m(twitter_or_news, coin_symbol, coin_name)\u001b[0m\n\u001b[0;32m      3\u001b[0m \u001b[1;33m\u001b[0m\u001b[0m\n\u001b[0;32m      4\u001b[0m   \u001b[0mcoin_name_bin\u001b[0m \u001b[1;33m=\u001b[0m \u001b[0mcoin_symbol\u001b[0m \u001b[1;33m+\u001b[0m \u001b[1;34m'USDT'\u001b[0m\u001b[1;33m\u001b[0m\u001b[1;33m\u001b[0m\u001b[0m\n\u001b[1;32m----> 5\u001b[1;33m   \u001b[0mcoin_price_df\u001b[0m \u001b[1;33m=\u001b[0m \u001b[0mgetPriceData\u001b[0m\u001b[1;33m(\u001b[0m\u001b[0mcoin_data_df\u001b[0m\u001b[1;33m,\u001b[0m \u001b[0mcoin_name_bin\u001b[0m\u001b[1;33m)\u001b[0m\u001b[1;33m\u001b[0m\u001b[1;33m\u001b[0m\u001b[0m\n\u001b[0m\u001b[0;32m      6\u001b[0m   \u001b[0mcoin_price_data_df\u001b[0m \u001b[1;33m=\u001b[0m \u001b[0mcombineSentPrice\u001b[0m\u001b[1;33m(\u001b[0m\u001b[0mcoin_data_df\u001b[0m\u001b[1;33m,\u001b[0m \u001b[0mcoin_price_df\u001b[0m\u001b[1;33m)\u001b[0m\u001b[1;33m\u001b[0m\u001b[1;33m\u001b[0m\u001b[0m\n\u001b[0;32m      7\u001b[0m \u001b[1;33m\u001b[0m\u001b[0m\n",
            "\u001b[1;32m<ipython-input-65-c99734a3112f>\u001b[0m in \u001b[0;36mgetPriceData\u001b[1;34m(coin_news_df, coin_name_binance)\u001b[0m\n\u001b[0;32m      3\u001b[0m   \u001b[0mend_time\u001b[0m \u001b[1;33m=\u001b[0m \u001b[0mstr\u001b[0m\u001b[1;33m(\u001b[0m\u001b[0mcoin_news_df\u001b[0m\u001b[1;33m[\u001b[0m\u001b[1;34m'Date'\u001b[0m\u001b[1;33m]\u001b[0m\u001b[1;33m[\u001b[0m\u001b[0mlen\u001b[0m\u001b[1;33m(\u001b[0m\u001b[0mcoin_news_df\u001b[0m\u001b[1;33m)\u001b[0m\u001b[1;33m-\u001b[0m\u001b[1;36m1\u001b[0m\u001b[1;33m]\u001b[0m\u001b[1;33m)\u001b[0m \u001b[1;33m+\u001b[0m \u001b[1;34m' 00:00:00'\u001b[0m\u001b[1;33m\u001b[0m\u001b[1;33m\u001b[0m\u001b[0m\n\u001b[0;32m      4\u001b[0m   \u001b[0mcoin_price_df_raw\u001b[0m \u001b[1;33m=\u001b[0m \u001b[0msearchBinance\u001b[0m\u001b[1;33m(\u001b[0m\u001b[1;33m[\u001b[0m\u001b[0mcoin_name_binance\u001b[0m\u001b[1;33m]\u001b[0m\u001b[1;33m,\u001b[0m \u001b[0mstartTime\u001b[0m\u001b[1;33m=\u001b[0m \u001b[0mstart_time\u001b[0m\u001b[1;33m,\u001b[0m \u001b[0mendTime\u001b[0m\u001b[1;33m=\u001b[0m \u001b[0mend_time\u001b[0m\u001b[1;33m,\u001b[0m \u001b[0minterval\u001b[0m\u001b[1;33m=\u001b[0m\u001b[1;34m'1d'\u001b[0m\u001b[1;33m)\u001b[0m\u001b[1;33m\u001b[0m\u001b[1;33m\u001b[0m\u001b[0m\n\u001b[1;32m----> 5\u001b[1;33m   \u001b[0mcoin_price_df\u001b[0m \u001b[1;33m=\u001b[0m \u001b[0mcoin_price_df_raw\u001b[0m\u001b[1;33m.\u001b[0m\u001b[0mdrop\u001b[0m\u001b[1;33m(\u001b[0m\u001b[0mcolumns\u001b[0m\u001b[1;33m=\u001b[0m\u001b[1;33m[\u001b[0m\u001b[1;34m'Coin Pair'\u001b[0m\u001b[1;33m]\u001b[0m\u001b[1;33m)\u001b[0m\u001b[1;33m.\u001b[0m\u001b[0mrename\u001b[0m\u001b[1;33m(\u001b[0m\u001b[0mcolumns\u001b[0m\u001b[1;33m=\u001b[0m\u001b[1;33m{\u001b[0m\u001b[1;34m'Open time'\u001b[0m\u001b[1;33m:\u001b[0m\u001b[1;34m'Date'\u001b[0m\u001b[1;33m,\u001b[0m \u001b[1;34m'Close'\u001b[0m\u001b[1;33m:\u001b[0m\u001b[1;34m'Price'\u001b[0m\u001b[1;33m}\u001b[0m\u001b[1;33m)\u001b[0m\u001b[1;33m\u001b[0m\u001b[1;33m\u001b[0m\u001b[0m\n\u001b[0m\u001b[0;32m      6\u001b[0m   \u001b[1;32mreturn\u001b[0m \u001b[0mcoin_price_df\u001b[0m\u001b[1;33m\u001b[0m\u001b[1;33m\u001b[0m\u001b[0m\n",
            "\u001b[1;31mAttributeError\u001b[0m: 'NoneType' object has no attribute 'drop'"
          ]
        }
      ]
    }
  ],
  "metadata": {
    "colab": {
      "name": "Copy of [Kasi]Price Prediction.ipynb",
      "provenance": []
    },
    "kernelspec": {
      "name": "python3",
      "display_name": "Python 3"
    },
    "language_info": {
      "name": "python",
      "version": "3.8.5-final"
    }
  },
  "nbformat": 4,
  "nbformat_minor": 0
}