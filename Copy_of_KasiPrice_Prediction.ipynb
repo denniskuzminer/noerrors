{
  "nbformat": 4,
  "nbformat_minor": 0,
  "metadata": {
    "colab": {
      "name": "Copy of [Kasi]Price Prediction.ipynb",
      "provenance": []
    },
    "kernelspec": {
      "name": "python3",
      "display_name": "Python 3"
    },
    "language_info": {
      "name": "python"
    }
  },
  "cells": [
    {
      "cell_type": "markdown",
      "source": [
        "# Preparation"
      ],
      "metadata": {
        "id": "CdSZvV5J2u5m"
      }
    },
    {
      "cell_type": "code",
      "source": [
        "!pip install python-binance\n",
        "!pip install pandas\n",
        "!pip install tabulate"
      ],
      "metadata": {
        "id": "MjxnAAAQmUnQ",
        "colab": {
          "base_uri": "https://localhost:8080/"
        },
        "outputId": "a1e6b2bd-8262-4369-c00b-79aeb52389d8"
      },
      "execution_count": null,
      "outputs": [
        {
          "output_type": "stream",
          "name": "stdout",
          "text": [
            "Collecting python-binance\n",
            "  Downloading python_binance-1.0.15-py2.py3-none-any.whl (63 kB)\n",
            "\u001b[K     |████████████████████████████████| 63 kB 1.0 MB/s \n",
            "\u001b[?25hRequirement already satisfied: six in /usr/local/lib/python3.7/dist-packages (from python-binance) (1.15.0)\n",
            "Requirement already satisfied: requests in /usr/local/lib/python3.7/dist-packages (from python-binance) (2.23.0)\n",
            "Collecting ujson\n",
            "  Downloading ujson-5.1.0-cp37-cp37m-manylinux_2_17_x86_64.manylinux2014_x86_64.whl (43 kB)\n",
            "\u001b[K     |████████████████████████████████| 43 kB 1.5 MB/s \n",
            "\u001b[?25hCollecting websockets==9.1\n",
            "  Downloading websockets-9.1-cp37-cp37m-manylinux2010_x86_64.whl (103 kB)\n",
            "\u001b[K     |████████████████████████████████| 103 kB 12.3 MB/s \n",
            "\u001b[?25hCollecting aiohttp\n",
            "  Downloading aiohttp-3.8.1-cp37-cp37m-manylinux_2_5_x86_64.manylinux1_x86_64.manylinux_2_12_x86_64.manylinux2010_x86_64.whl (1.1 MB)\n",
            "\u001b[K     |████████████████████████████████| 1.1 MB 15.4 MB/s \n",
            "\u001b[?25hCollecting dateparser\n",
            "  Downloading dateparser-1.1.0-py2.py3-none-any.whl (288 kB)\n",
            "\u001b[K     |████████████████████████████████| 288 kB 44.8 MB/s \n",
            "\u001b[?25hCollecting multidict<7.0,>=4.5\n",
            "  Downloading multidict-5.2.0-cp37-cp37m-manylinux_2_5_x86_64.manylinux1_x86_64.manylinux_2_12_x86_64.manylinux2010_x86_64.whl (160 kB)\n",
            "\u001b[K     |████████████████████████████████| 160 kB 36.3 MB/s \n",
            "\u001b[?25hRequirement already satisfied: charset-normalizer<3.0,>=2.0 in /usr/local/lib/python3.7/dist-packages (from aiohttp->python-binance) (2.0.8)\n",
            "Collecting async-timeout<5.0,>=4.0.0a3\n",
            "  Downloading async_timeout-4.0.2-py3-none-any.whl (5.8 kB)\n",
            "Collecting yarl<2.0,>=1.0\n",
            "  Downloading yarl-1.7.2-cp37-cp37m-manylinux_2_5_x86_64.manylinux1_x86_64.manylinux_2_12_x86_64.manylinux2010_x86_64.whl (271 kB)\n",
            "\u001b[K     |████████████████████████████████| 271 kB 35.3 MB/s \n",
            "\u001b[?25hRequirement already satisfied: attrs>=17.3.0 in /usr/local/lib/python3.7/dist-packages (from aiohttp->python-binance) (21.2.0)\n",
            "Collecting frozenlist>=1.1.1\n",
            "  Downloading frozenlist-1.2.0-cp37-cp37m-manylinux_2_5_x86_64.manylinux1_x86_64.manylinux_2_12_x86_64.manylinux2010_x86_64.whl (192 kB)\n",
            "\u001b[K     |████████████████████████████████| 192 kB 39.1 MB/s \n",
            "\u001b[?25hCollecting asynctest==0.13.0\n",
            "  Downloading asynctest-0.13.0-py3-none-any.whl (26 kB)\n",
            "Collecting aiosignal>=1.1.2\n",
            "  Downloading aiosignal-1.2.0-py3-none-any.whl (8.2 kB)\n",
            "Requirement already satisfied: typing-extensions>=3.7.4 in /usr/local/lib/python3.7/dist-packages (from aiohttp->python-binance) (3.10.0.2)\n",
            "Requirement already satisfied: idna>=2.0 in /usr/local/lib/python3.7/dist-packages (from yarl<2.0,>=1.0->aiohttp->python-binance) (2.10)\n",
            "Requirement already satisfied: regex!=2019.02.19,!=2021.8.27 in /usr/local/lib/python3.7/dist-packages (from dateparser->python-binance) (2019.12.20)\n",
            "Requirement already satisfied: pytz in /usr/local/lib/python3.7/dist-packages (from dateparser->python-binance) (2018.9)\n",
            "Requirement already satisfied: python-dateutil in /usr/local/lib/python3.7/dist-packages (from dateparser->python-binance) (2.8.2)\n",
            "Requirement already satisfied: tzlocal in /usr/local/lib/python3.7/dist-packages (from dateparser->python-binance) (1.5.1)\n",
            "Requirement already satisfied: urllib3!=1.25.0,!=1.25.1,<1.26,>=1.21.1 in /usr/local/lib/python3.7/dist-packages (from requests->python-binance) (1.24.3)\n",
            "Requirement already satisfied: chardet<4,>=3.0.2 in /usr/local/lib/python3.7/dist-packages (from requests->python-binance) (3.0.4)\n",
            "Requirement already satisfied: certifi>=2017.4.17 in /usr/local/lib/python3.7/dist-packages (from requests->python-binance) (2021.10.8)\n",
            "Installing collected packages: multidict, frozenlist, yarl, asynctest, async-timeout, aiosignal, websockets, ujson, dateparser, aiohttp, python-binance\n",
            "Successfully installed aiohttp-3.8.1 aiosignal-1.2.0 async-timeout-4.0.2 asynctest-0.13.0 dateparser-1.1.0 frozenlist-1.2.0 multidict-5.2.0 python-binance-1.0.15 ujson-5.1.0 websockets-9.1 yarl-1.7.2\n",
            "Requirement already satisfied: pandas in /usr/local/lib/python3.7/dist-packages (1.1.5)\n",
            "Requirement already satisfied: pytz>=2017.2 in /usr/local/lib/python3.7/dist-packages (from pandas) (2018.9)\n",
            "Requirement already satisfied: numpy>=1.15.4 in /usr/local/lib/python3.7/dist-packages (from pandas) (1.19.5)\n",
            "Requirement already satisfied: python-dateutil>=2.7.3 in /usr/local/lib/python3.7/dist-packages (from pandas) (2.8.2)\n",
            "Requirement already satisfied: six>=1.5 in /usr/local/lib/python3.7/dist-packages (from python-dateutil>=2.7.3->pandas) (1.15.0)\n",
            "Requirement already satisfied: tabulate in /usr/local/lib/python3.7/dist-packages (0.8.9)\n"
          ]
        }
      ]
    },
    {
      "cell_type": "code",
      "source": [
        "!sudo apt-get install python3-dev libmysqlclient-dev > /dev/null\n",
        "!pip install mysqlclient > /dev/null\n",
        "!sudo pip3 install -U sql_magic > /dev/null\n",
        "!pip install psycopg2-binary > /dev/null"
      ],
      "metadata": {
        "id": "GNNlCU2Kj98t"
      },
      "execution_count": null,
      "outputs": []
    },
    {
      "cell_type": "code",
      "source": [
        "%matplotlib inline\n",
        "%config InlineBackend.figure_format = 'retina'"
      ],
      "metadata": {
        "id": "vfBxkNp8kATL"
      },
      "execution_count": null,
      "outputs": []
    },
    {
      "cell_type": "code",
      "source": [
        "import requests\n",
        "import json\n",
        "from datetime import datetime\n",
        "from tabulate import tabulate"
      ],
      "metadata": {
        "id": "U3-wJwigmYUr"
      },
      "execution_count": null,
      "outputs": []
    },
    {
      "cell_type": "code",
      "execution_count": null,
      "metadata": {
        "id": "wLR4hPBqjFVa"
      },
      "outputs": [],
      "source": [
        "import pandas as pd\n",
        "import numpy as np\n",
        "import sklearn\n",
        "from sklearn.linear_model import LinearRegression\n",
        "import seaborn as sns\n",
        "from sqlalchemy import create_engine\n",
        "from sqlalchemy import event"
      ]
    },
    {
      "cell_type": "code",
      "source": [
        "from requests_oauthlib import OAuth1\n",
        "from pandas.io.json import json_normalize\n",
        "from datetime import datetime, timedelta\n",
        "from pytz import timezone"
      ],
      "metadata": {
        "id": "1sT7zonvxDBo"
      },
      "execution_count": null,
      "outputs": []
    },
    {
      "cell_type": "markdown",
      "source": [
        "# Function"
      ],
      "metadata": {
        "id": "pen-pAbZ23uu"
      }
    },
    {
      "cell_type": "markdown",
      "source": [
        "### Cryptocurrency Price"
      ],
      "metadata": {
        "id": "HJ2BvOI526VB"
      }
    },
    {
      "cell_type": "code",
      "source": [
        "validIntervals = ['1m', '3m', '5m', '15m', '30m', '1h', '2h', '4h', '6h', '8h', '12h', '1d', '3d', '1w', '1M']\n",
        "\n",
        "def searchBinance(symbols, startTime='2020-01-01 00:00:00', endTime='2020-12-02 00:00:00', interval='1M'):\n",
        "    if interval not in validIntervals: \n",
        "        raise ValueError('Please enter a valid interval: ' + str(validIntervals))\n",
        "    dfs = []\n",
        "    url = 'https://api.binance.com/api/v3/klines'\n",
        "    for symbol in symbols:\n",
        "        try:\n",
        "            params = {\n",
        "                'symbol': symbol,\n",
        "                'interval': interval,\n",
        "                'limit': 1000,\n",
        "              'startTime': int(datetime.strptime(startTime, '%Y-%m-%d %H:%M:%S').timestamp() * 1000),\n",
        "                'endTime': int(datetime.strptime(endTime, '%Y-%m-%d %H:%M:%S').timestamp() * 1000)\n",
        "            }\n",
        "            response = requests.get(url, params=params)\n",
        "            df = pd.DataFrame(response.json())\n",
        "            df.columns = ['Open time', 'Open', 'High', 'Low', 'Close', 'Volume', 'Close time', 'Quote asset volume', 'Number of trades', 'Taker buy base asset volume', 'Taker buy quote asset volume', 'Ignore']\n",
        "            df['Coin Pair'] = symbol\n",
        "            df['Open time'] = df['Open time'].apply(lambda x: datetime.fromtimestamp(x/1000.0))\n",
        "            df['Close time'] = df['Close time'].apply(lambda x: datetime.fromtimestamp(x/1000.0))\n",
        "            # dfs.append(df[['Coin Pair', 'Open time', 'Open', 'High', 'Low', 'Close', 'Volume', 'Close time']])\n",
        "            dfs.append(df[['Coin Pair', 'Open time', 'Open', 'Close']])\n",
        "        except:\n",
        "            continue\n",
        "    try:\n",
        "        return pd.concat(dfs)\n",
        "    except:\n",
        "        return None\n"
      ],
      "metadata": {
        "id": "HV4rVQGJmc6X"
      },
      "execution_count": null,
      "outputs": []
    },
    {
      "cell_type": "markdown",
      "source": [
        "### Data Analysis"
      ],
      "metadata": {
        "id": "VZI1ne9C3WNk"
      }
    },
    {
      "cell_type": "code",
      "source": [
        "def cleanNewsData(coin_news_df):\n",
        "  coin_news_df_raw = coin_news_df\n",
        "  coin_news_df_sorted = coin_news_df_raw.sort_values(by=['date_published']).dropna()\n",
        "  coin_news_df_sorted.drop(coin_news_df_sorted[coin_news_df_sorted['anger'] == 'error'].index, inplace = True)\n",
        "  coin_news_df = coin_news_df_sorted.reset_index().drop(columns=['index'])\n",
        "\n",
        "  for i in range(len(coin_news_df)):\n",
        "    coin_news_df['date_published'][i] = str(coin_news_df['date_published'][i])[:10]\n",
        "  coin_news_df = coin_news_df.drop(columns='url').rename(columns={'date_published':'Date','digust':'disgust'})\n",
        "\n",
        "  return coin_news_df\n"
      ],
      "metadata": {
        "id": "RmfP1zonc7lM"
      },
      "execution_count": null,
      "outputs": []
    },
    {
      "cell_type": "code",
      "source": [
        "def cleanTwitterData(coin_twitter_df):\n",
        "  coin_twitter_df_raw = coin_twitter_df\n",
        "  coin_twitter_df = coin_twitter_df_raw.dropna().reset_index()\n",
        "\n",
        "  for i in range(len(coin_twitter_df)):\n",
        "    coin_twitter_df['created_at'][i] = str(coin_twitter_df['created_at'][i])[:10]\n",
        "  coin_twitter_df = coin_twitter_df.rename(columns={'created_at':'Date', 'digust':'disgust'})\n",
        "  return coin_twitter_df \n"
      ],
      "metadata": {
        "id": "pWKGrhazdBye"
      },
      "execution_count": null,
      "outputs": []
    },
    {
      "cell_type": "code",
      "source": [
        "def getData(twitter_or_news, coin_symbol):\n",
        "  conn_string = 'mysql://{user}:{password}@{host}:{port}/{db}?charset=utf8'.format(\n",
        "      user=\"noerrors\",\n",
        "      password=\"JXEf1zCCp5c=\",\n",
        "      host=\"jsedocc7.scrc.nyu.edu\",\n",
        "      port=3306,\n",
        "      db=\"NoErrors\",\n",
        "      encoding=\"utf-8\"\n",
        "  )\n",
        "  engine = create_engine(conn_string)  \n",
        " \n",
        "  if twitter_or_news == 'twitter':\n",
        "    query = '''\n",
        "    SELECT * FROM twitter_sentiment\n",
        "    '''\n",
        "    twitter_df = pd.read_sql(query, con=engine)\n",
        "    coin_twitter_df = twitter_df[(twitter_df['coin_name']== coin_symbol)]\n",
        "    coin_data_df = cleanTwitterData(coin_twitter_df)\n",
        "\n",
        "  elif twitter_or_news == 'news':\n",
        "    query = '''\n",
        "    SELECT * FROM news_sentiment\n",
        "    '''\n",
        "    news_df = pd.read_sql(query, con=engine)\n",
        "    coin_news_df = news_df[(news_df['coin_name']== coin_symbol)]  \n",
        "    coin_data_df = cleanNewsData(coin_news_df)  \n",
        "\n",
        "  else:\n",
        "    print('Please enter twitter or news for the first argument')\n",
        "  \n",
        "  return coin_data_df\n",
        "\n",
        "testcoin_data_df = getData('twitter', 'DOGE')\n",
        "testcoin_data_df"
      ],
      "metadata": {
        "id": "EtL6dSOE8sWk",
        "colab": {
          "base_uri": "https://localhost:8080/",
          "height": 510
        },
        "outputId": "ceff1bda-8911-4a12-e466-bc498cbb4a97"
      },
      "execution_count": null,
      "outputs": [
        {
          "output_type": "stream",
          "name": "stderr",
          "text": [
            "/usr/local/lib/python3.7/dist-packages/ipykernel_launcher.py:6: SettingWithCopyWarning: \n",
            "A value is trying to be set on a copy of a slice from a DataFrame\n",
            "\n",
            "See the caveats in the documentation: https://pandas.pydata.org/pandas-docs/stable/user_guide/indexing.html#returning-a-view-versus-a-copy\n",
            "  \n"
          ]
        },
        {
          "output_type": "execute_result",
          "data": {
            "text/html": [
              "\n",
              "  <div id=\"df-791003bb-b006-4f64-9b73-ab8ceead278e\">\n",
              "    <div class=\"colab-df-container\">\n",
              "      <div>\n",
              "<style scoped>\n",
              "    .dataframe tbody tr th:only-of-type {\n",
              "        vertical-align: middle;\n",
              "    }\n",
              "\n",
              "    .dataframe tbody tr th {\n",
              "        vertical-align: top;\n",
              "    }\n",
              "\n",
              "    .dataframe thead th {\n",
              "        text-align: right;\n",
              "    }\n",
              "</style>\n",
              "<table border=\"1\" class=\"dataframe\">\n",
              "  <thead>\n",
              "    <tr style=\"text-align: right;\">\n",
              "      <th></th>\n",
              "      <th>index</th>\n",
              "      <th>sentiment_id</th>\n",
              "      <th>coin_name</th>\n",
              "      <th>Date</th>\n",
              "      <th>author_id</th>\n",
              "      <th>anger</th>\n",
              "      <th>disgust</th>\n",
              "      <th>fear</th>\n",
              "      <th>joy</th>\n",
              "      <th>sadness</th>\n",
              "      <th>label</th>\n",
              "      <th>score</th>\n",
              "    </tr>\n",
              "  </thead>\n",
              "  <tbody>\n",
              "    <tr>\n",
              "      <th>0</th>\n",
              "      <td>7549</td>\n",
              "      <td>7550</td>\n",
              "      <td>DOGE</td>\n",
              "      <td>2021-12-11</td>\n",
              "      <td>2435986338</td>\n",
              "      <td>0.049211</td>\n",
              "      <td>0.035718</td>\n",
              "      <td>0.062240</td>\n",
              "      <td>0.082141</td>\n",
              "      <td>0.153572</td>\n",
              "      <td>neutral</td>\n",
              "      <td>0.000000</td>\n",
              "    </tr>\n",
              "    <tr>\n",
              "      <th>1</th>\n",
              "      <td>7550</td>\n",
              "      <td>7551</td>\n",
              "      <td>DOGE</td>\n",
              "      <td>2021-12-11</td>\n",
              "      <td>1466339889155239943</td>\n",
              "      <td>0.004049</td>\n",
              "      <td>0.530035</td>\n",
              "      <td>0.017824</td>\n",
              "      <td>0.343809</td>\n",
              "      <td>0.241921</td>\n",
              "      <td>neutral</td>\n",
              "      <td>0.000000</td>\n",
              "    </tr>\n",
              "    <tr>\n",
              "      <th>2</th>\n",
              "      <td>7551</td>\n",
              "      <td>7552</td>\n",
              "      <td>DOGE</td>\n",
              "      <td>2021-12-11</td>\n",
              "      <td>980962034421587969</td>\n",
              "      <td>0.004049</td>\n",
              "      <td>0.530035</td>\n",
              "      <td>0.017824</td>\n",
              "      <td>0.343809</td>\n",
              "      <td>0.241921</td>\n",
              "      <td>neutral</td>\n",
              "      <td>0.000000</td>\n",
              "    </tr>\n",
              "    <tr>\n",
              "      <th>3</th>\n",
              "      <td>7552</td>\n",
              "      <td>7553</td>\n",
              "      <td>DOGE</td>\n",
              "      <td>2021-12-11</td>\n",
              "      <td>1369496417073438728</td>\n",
              "      <td>0.478327</td>\n",
              "      <td>0.059836</td>\n",
              "      <td>0.320713</td>\n",
              "      <td>0.255852</td>\n",
              "      <td>0.112219</td>\n",
              "      <td>negative</td>\n",
              "      <td>-0.720571</td>\n",
              "    </tr>\n",
              "    <tr>\n",
              "      <th>4</th>\n",
              "      <td>7553</td>\n",
              "      <td>7554</td>\n",
              "      <td>DOGE</td>\n",
              "      <td>2021-12-11</td>\n",
              "      <td>1267197215635726336</td>\n",
              "      <td>0.017612</td>\n",
              "      <td>0.014079</td>\n",
              "      <td>0.039293</td>\n",
              "      <td>0.316694</td>\n",
              "      <td>0.093051</td>\n",
              "      <td>neutral</td>\n",
              "      <td>0.000000</td>\n",
              "    </tr>\n",
              "    <tr>\n",
              "      <th>...</th>\n",
              "      <td>...</td>\n",
              "      <td>...</td>\n",
              "      <td>...</td>\n",
              "      <td>...</td>\n",
              "      <td>...</td>\n",
              "      <td>...</td>\n",
              "      <td>...</td>\n",
              "      <td>...</td>\n",
              "      <td>...</td>\n",
              "      <td>...</td>\n",
              "      <td>...</td>\n",
              "      <td>...</td>\n",
              "    </tr>\n",
              "    <tr>\n",
              "      <th>678</th>\n",
              "      <td>8227</td>\n",
              "      <td>8228</td>\n",
              "      <td>DOGE</td>\n",
              "      <td>2021-12-17</td>\n",
              "      <td>1407030581372858377</td>\n",
              "      <td>0.012346</td>\n",
              "      <td>0.159198</td>\n",
              "      <td>0.078144</td>\n",
              "      <td>0.636822</td>\n",
              "      <td>0.086213</td>\n",
              "      <td>positive</td>\n",
              "      <td>0.843416</td>\n",
              "    </tr>\n",
              "    <tr>\n",
              "      <th>679</th>\n",
              "      <td>8228</td>\n",
              "      <td>8229</td>\n",
              "      <td>DOGE</td>\n",
              "      <td>2021-12-17</td>\n",
              "      <td>1452276873187274763</td>\n",
              "      <td>0.083894</td>\n",
              "      <td>0.020413</td>\n",
              "      <td>0.016207</td>\n",
              "      <td>0.401257</td>\n",
              "      <td>0.229325</td>\n",
              "      <td>negative</td>\n",
              "      <td>-0.393949</td>\n",
              "    </tr>\n",
              "    <tr>\n",
              "      <th>680</th>\n",
              "      <td>8229</td>\n",
              "      <td>8230</td>\n",
              "      <td>DOGE</td>\n",
              "      <td>2021-12-17</td>\n",
              "      <td>1246503261730938880</td>\n",
              "      <td>0.241229</td>\n",
              "      <td>0.195034</td>\n",
              "      <td>0.061266</td>\n",
              "      <td>0.382953</td>\n",
              "      <td>0.199295</td>\n",
              "      <td>negative</td>\n",
              "      <td>-0.751249</td>\n",
              "    </tr>\n",
              "    <tr>\n",
              "      <th>681</th>\n",
              "      <td>8230</td>\n",
              "      <td>8231</td>\n",
              "      <td>DOGE</td>\n",
              "      <td>2021-12-17</td>\n",
              "      <td>1454604514623954950</td>\n",
              "      <td>0.019555</td>\n",
              "      <td>0.270080</td>\n",
              "      <td>0.036131</td>\n",
              "      <td>0.501483</td>\n",
              "      <td>0.169975</td>\n",
              "      <td>positive</td>\n",
              "      <td>0.921830</td>\n",
              "    </tr>\n",
              "    <tr>\n",
              "      <th>682</th>\n",
              "      <td>8231</td>\n",
              "      <td>8232</td>\n",
              "      <td>DOGE</td>\n",
              "      <td>2021-12-17</td>\n",
              "      <td>178549087</td>\n",
              "      <td>0.083894</td>\n",
              "      <td>0.020413</td>\n",
              "      <td>0.016207</td>\n",
              "      <td>0.401257</td>\n",
              "      <td>0.229325</td>\n",
              "      <td>negative</td>\n",
              "      <td>-0.393949</td>\n",
              "    </tr>\n",
              "  </tbody>\n",
              "</table>\n",
              "<p>683 rows × 12 columns</p>\n",
              "</div>\n",
              "      <button class=\"colab-df-convert\" onclick=\"convertToInteractive('df-791003bb-b006-4f64-9b73-ab8ceead278e')\"\n",
              "              title=\"Convert this dataframe to an interactive table.\"\n",
              "              style=\"display:none;\">\n",
              "        \n",
              "  <svg xmlns=\"http://www.w3.org/2000/svg\" height=\"24px\"viewBox=\"0 0 24 24\"\n",
              "       width=\"24px\">\n",
              "    <path d=\"M0 0h24v24H0V0z\" fill=\"none\"/>\n",
              "    <path d=\"M18.56 5.44l.94 2.06.94-2.06 2.06-.94-2.06-.94-.94-2.06-.94 2.06-2.06.94zm-11 1L8.5 8.5l.94-2.06 2.06-.94-2.06-.94L8.5 2.5l-.94 2.06-2.06.94zm10 10l.94 2.06.94-2.06 2.06-.94-2.06-.94-.94-2.06-.94 2.06-2.06.94z\"/><path d=\"M17.41 7.96l-1.37-1.37c-.4-.4-.92-.59-1.43-.59-.52 0-1.04.2-1.43.59L10.3 9.45l-7.72 7.72c-.78.78-.78 2.05 0 2.83L4 21.41c.39.39.9.59 1.41.59.51 0 1.02-.2 1.41-.59l7.78-7.78 2.81-2.81c.8-.78.8-2.07 0-2.86zM5.41 20L4 18.59l7.72-7.72 1.47 1.35L5.41 20z\"/>\n",
              "  </svg>\n",
              "      </button>\n",
              "      \n",
              "  <style>\n",
              "    .colab-df-container {\n",
              "      display:flex;\n",
              "      flex-wrap:wrap;\n",
              "      gap: 12px;\n",
              "    }\n",
              "\n",
              "    .colab-df-convert {\n",
              "      background-color: #E8F0FE;\n",
              "      border: none;\n",
              "      border-radius: 50%;\n",
              "      cursor: pointer;\n",
              "      display: none;\n",
              "      fill: #1967D2;\n",
              "      height: 32px;\n",
              "      padding: 0 0 0 0;\n",
              "      width: 32px;\n",
              "    }\n",
              "\n",
              "    .colab-df-convert:hover {\n",
              "      background-color: #E2EBFA;\n",
              "      box-shadow: 0px 1px 2px rgba(60, 64, 67, 0.3), 0px 1px 3px 1px rgba(60, 64, 67, 0.15);\n",
              "      fill: #174EA6;\n",
              "    }\n",
              "\n",
              "    [theme=dark] .colab-df-convert {\n",
              "      background-color: #3B4455;\n",
              "      fill: #D2E3FC;\n",
              "    }\n",
              "\n",
              "    [theme=dark] .colab-df-convert:hover {\n",
              "      background-color: #434B5C;\n",
              "      box-shadow: 0px 1px 3px 1px rgba(0, 0, 0, 0.15);\n",
              "      filter: drop-shadow(0px 1px 2px rgba(0, 0, 0, 0.3));\n",
              "      fill: #FFFFFF;\n",
              "    }\n",
              "  </style>\n",
              "\n",
              "      <script>\n",
              "        const buttonEl =\n",
              "          document.querySelector('#df-791003bb-b006-4f64-9b73-ab8ceead278e button.colab-df-convert');\n",
              "        buttonEl.style.display =\n",
              "          google.colab.kernel.accessAllowed ? 'block' : 'none';\n",
              "\n",
              "        async function convertToInteractive(key) {\n",
              "          const element = document.querySelector('#df-791003bb-b006-4f64-9b73-ab8ceead278e');\n",
              "          const dataTable =\n",
              "            await google.colab.kernel.invokeFunction('convertToInteractive',\n",
              "                                                     [key], {});\n",
              "          if (!dataTable) return;\n",
              "\n",
              "          const docLinkHtml = 'Like what you see? Visit the ' +\n",
              "            '<a target=\"_blank\" href=https://colab.research.google.com/notebooks/data_table.ipynb>data table notebook</a>'\n",
              "            + ' to learn more about interactive tables.';\n",
              "          element.innerHTML = '';\n",
              "          dataTable['output_type'] = 'display_data';\n",
              "          await google.colab.output.renderOutput(dataTable, element);\n",
              "          const docLink = document.createElement('div');\n",
              "          docLink.innerHTML = docLinkHtml;\n",
              "          element.appendChild(docLink);\n",
              "        }\n",
              "      </script>\n",
              "    </div>\n",
              "  </div>\n",
              "  "
            ],
            "text/plain": [
              "     index  sentiment_id coin_name  ...   sadness     label     score\n",
              "0     7549          7550      DOGE  ...  0.153572   neutral  0.000000\n",
              "1     7550          7551      DOGE  ...  0.241921   neutral  0.000000\n",
              "2     7551          7552      DOGE  ...  0.241921   neutral  0.000000\n",
              "3     7552          7553      DOGE  ...  0.112219  negative -0.720571\n",
              "4     7553          7554      DOGE  ...  0.093051   neutral  0.000000\n",
              "..     ...           ...       ...  ...       ...       ...       ...\n",
              "678   8227          8228      DOGE  ...  0.086213  positive  0.843416\n",
              "679   8228          8229      DOGE  ...  0.229325  negative -0.393949\n",
              "680   8229          8230      DOGE  ...  0.199295  negative -0.751249\n",
              "681   8230          8231      DOGE  ...  0.169975  positive  0.921830\n",
              "682   8231          8232      DOGE  ...  0.229325  negative -0.393949\n",
              "\n",
              "[683 rows x 12 columns]"
            ]
          },
          "metadata": {},
          "execution_count": 19
        }
      ]
    },
    {
      "cell_type": "code",
      "source": [
        "def getPriceData(coin_news_df, coin_name_binance):\n",
        "  start_time = str(coin_news_df['Date'][0]) + ' 00:00:00'\n",
        "  end_time = str(coin_news_df['Date'][len(coin_news_df)-1]) + ' 00:00:00'\n",
        "  coin_price_df_raw = searchBinance([coin_name_binance], startTime= start_time, endTime= end_time, interval='1d')\n",
        "  coin_price_df = coin_price_df_raw.drop(columns=['Coin Pair']).rename(columns={'Open time':'Date', 'Close':'Price'})\n",
        "  return coin_price_df\n"
      ],
      "metadata": {
        "id": "zuZzFNiwl7iM"
      },
      "execution_count": null,
      "outputs": []
    },
    {
      "cell_type": "code",
      "source": [
        "def combineSentPrice(coin_news_df, coin_price_df):\n",
        "  coin_price_news_df = coin_news_df.copy()\n",
        "  coin_price_news_df['Price'] = np.nan\n",
        "\n",
        "  coin_news_df['Date'] = pd.to_datetime(coin_news_df['Date'])\n",
        "\n",
        "  for i in range(len(coin_news_df)):\n",
        "    price_row = coin_price_df.loc[coin_price_df['Date'] == coin_news_df['Date'][i]]\n",
        "    try:\n",
        "      price_index = list(price_row.to_dict()['Price'].keys())[0]\n",
        "      price = coin_price_df['Price'][price_index]\n",
        "      coin_price_news_df.at[i, 'Price'] = price\n",
        "    except:\n",
        "      continue\n",
        "\n",
        "  coin_price_news_df.dropna(subset=['Price'], inplace=True)\n",
        "\n",
        "  return coin_price_news_df\n"
      ],
      "metadata": {
        "id": "NqKNjakzmjU1"
      },
      "execution_count": null,
      "outputs": []
    },
    {
      "cell_type": "code",
      "source": [
        "def dataAnalysis(coin_price_news_df):\n",
        "\n",
        "  coin_price_news_df['anger'] = pd.to_numeric(coin_price_news_df['anger'])\n",
        "  coin_price_news_df['disgust'] = pd.to_numeric(coin_price_news_df['disgust'])\n",
        "  coin_price_news_df['fear'] = pd.to_numeric(coin_price_news_df['fear'])\n",
        "  coin_price_news_df['joy'] = pd.to_numeric(coin_price_news_df['joy'])\n",
        "  coin_price_news_df['sadness'] = pd.to_numeric(coin_price_news_df['sadness'])\n",
        "\n",
        "  X = coin_price_news_df[[\"anger\", \"disgust\", \"fear\", \"joy\", 'sadness']]\n",
        "  y = coin_price_news_df.Price\n",
        "  lr = LinearRegression()\n",
        "  lr.fit(X, y)\n",
        "\n",
        "  coefficient_intercept = np.append(lr.coef_, lr.intercept_)\n",
        "  coin_price_news_df['intercept'] = np.nan\n",
        "  format_dict = {'anger':[], 'disgust': [], 'fear':[], 'joy':[], 'sadness':[], 'intercept':[]}\n",
        "  format_df = pd.DataFrame(format_dict)\n",
        "\n",
        "  regression_df = pd.DataFrame(zip(format_df.columns[0:], coefficient_intercept), columns = [\"sentiments\", \"coefficients\"])\n",
        "  regression_df\n",
        "\n",
        "  return lr\n"
      ],
      "metadata": {
        "id": "TBBNarahmmJH"
      },
      "execution_count": null,
      "outputs": []
    },
    {
      "cell_type": "markdown",
      "source": [
        "### Get twitter info today"
      ],
      "metadata": {
        "id": "4ltmR6bH3Iv0"
      }
    },
    {
      "cell_type": "code",
      "source": [
        "consumer_key = '2GEDtzlFMJK6agAMkPQoVTwnl'\n",
        "consumer_secret = '9TvdpLsvdZDbUrihxDd2LUh02P3moWewdAWqTeupJH90SxPkoi'\n",
        "access_token = '1241443545975791617-Qy2ioSjn5qmKfHN17bSKV1RhWv19et'\n",
        "access_secret = 'asmAhYweQTDavRPwrs3FkdJd3557g76rcyksDNGT3b9Nx'\n",
        "\n",
        "auth = OAuth1(consumer_key, consumer_secret, access_token, access_secret)"
      ],
      "metadata": {
        "id": "fWcB4XzGw_iH"
      },
      "execution_count": null,
      "outputs": []
    },
    {
      "cell_type": "code",
      "source": [
        "bearer_token = 'AAAAAAAAAAAAAAAAAAAAANNrMgEAAAAAauW1AUNHTT0LpndAup%2FVN3XJq6U%3Dj1Xk8EJ53dd7Lqwuzjhre9SGvuFebeJtitOOphYKhawST8keZU'"
      ],
      "metadata": {
        "id": "uHjCLUawlstP"
      },
      "execution_count": null,
      "outputs": []
    },
    {
      "cell_type": "code",
      "source": [
        "def getSentimentTwitter(text):\n",
        "    endpoint = 'https://api.us-east.natural-language-understanding.watson.cloud.ibm.com/instances/d1c5c268-9db4-43a1-aa7d-b8ecaf566cc2/v1/analyze'\n",
        "    username = \"apikey\"\n",
        "    password = \"Awa31seHtH1zVbGgt_cPK0lJkCHIqJIHsxaQBMqBEmKK\"\n",
        "    parameters = {\n",
        "        'features': 'emotion,sentiment',\n",
        "        'version' : '2021-08-01',\n",
        "        'text': text,\n",
        "        'language' : 'en',\n",
        "    }\n",
        "    resp = requests.get(endpoint, params=parameters, auth=(username, password))\n",
        "    if resp.status_code != 400:\n",
        "      emotion = resp.json()['emotion']['document']['emotion']\n",
        "      sentiment = resp.json()['sentiment']['document']\n",
        "      emotion.update(sentiment)\n",
        "      return emotion\n",
        "    else:\n",
        "      return None"
      ],
      "metadata": {
        "id": "W_4nGvznls-y"
      },
      "execution_count": null,
      "outputs": []
    },
    {
      "cell_type": "code",
      "source": [
        "def getTwitterSentToday(coin):\n",
        "\n",
        "  tz = timezone('EST')\n",
        "  current_time = datetime.now(tz)\n",
        "  formatted_current_time = current_time.strftime(\"%Y-%m-%dT%H:%M:%S.000Z\")\n",
        "\n",
        "  yesterday = current_time - timedelta(days=1)\n",
        "  yesterday.strftime(\"%Y-%m-%dT%H:%M:%S.000Z\")\n",
        "  formatted_yesterday_time = yesterday.strftime(\"%Y-%m-%dT%H:%M:%S.000Z\")\n",
        "\n",
        "  twitter_search_endpoint = 'https://api.twitter.com/2/tweets/search/recent'\n",
        "  parameters  = {\n",
        "    'query' : coin,\n",
        "    'tweet.fields' : 'text,author_id,created_at,public_metrics',\n",
        "    'start_time' : formatted_yesterday_time,\n",
        "    'end_time' : formatted_current_time,\n",
        "    'max_results' : 100\n",
        "}\n",
        "\n",
        "  res = requests.get(twitter_search_endpoint, auth=auth, params=parameters)\n",
        "\n",
        "  tweets = res.json()\n",
        "  tweets = tweets['data']\n",
        "\n",
        "  date = []\n",
        "  author = []\n",
        "  text = []\n",
        "  for i in range(len(tweets)):\n",
        "    date.append(tweets[i]['created_at'])\n",
        "    author.append(tweets[i]['author_id'])\n",
        "    text.append(tweets[i]['text'])\n",
        "\n",
        "  full_article = []\n",
        "  \n",
        "  for i in range(len(tweets)):\n",
        "    article = ''\n",
        "    article += tweets[i]['text']\n",
        "    full_article.append(str(article))\n",
        "\n",
        "\n",
        "  my_dict = {'created_at' : [],\n",
        "            'author_id' : [],\n",
        "            'text': [],\n",
        "           'anger' : [],\n",
        "           'disgust' : [],\n",
        "            'fear' : [],\n",
        "           'joy' : [],\n",
        "           'sadness': [],\n",
        "           'label': [],\n",
        "           'score': []\n",
        "           }\n",
        "  for i in range(len(full_article)):\n",
        "    text_emotion = getSentimentTwitter(full_article[i])\n",
        "    my_dict['created_at'].append(date[i])\n",
        "    my_dict['author_id'].append(author[i])\n",
        "    my_dict['text'].append(text[i])\n",
        "\n",
        "    my_dict['anger'].append(text_emotion['anger'])\n",
        "    my_dict['disgust'].append(text_emotion['disgust'])\n",
        "    my_dict['fear'].append(text_emotion['fear'])\n",
        "    my_dict['joy'].append(text_emotion['joy'])\n",
        "    my_dict['sadness'].append(text_emotion['sadness'])\n",
        "    my_dict['label'].append(text_emotion['label'])\n",
        "    my_dict['score'].append(text_emotion['score'])\n",
        "\n",
        "\n",
        "    df = pd.DataFrame.from_dict(my_dict)\n",
        "  return df\n"
      ],
      "metadata": {
        "id": "6vB-j5M2x20J"
      },
      "execution_count": null,
      "outputs": []
    },
    {
      "cell_type": "markdown",
      "source": [
        "### Predicted Range"
      ],
      "metadata": {
        "id": "RUIyMLYPdv5_"
      }
    },
    {
      "cell_type": "code",
      "source": [
        "def getPredictedRange(lr, coin_today_df):\n",
        "  X = coin_today_df[[\"anger\", \"disgust\", \"fear\", \"joy\", 'sadness']]\n",
        "  y_hat = lr.predict(X)\n",
        "  return max(y_hat), min(y_hat)  \n"
      ],
      "metadata": {
        "id": "v3E2NAMSdjd2"
      },
      "execution_count": null,
      "outputs": []
    },
    {
      "cell_type": "markdown",
      "source": [
        "### Main"
      ],
      "metadata": {
        "id": "gNojQKtieeU5"
      }
    },
    {
      "cell_type": "code",
      "source": [
        "def main(twitter_or_news, coin_symbol, coin_name):\n",
        "  coin_data_df = getData(twitter_or_news, coin_symbol)\n",
        "\n",
        "  coin_name_bin = coin_symbol + 'USDT'\n",
        "  coin_price_df = getPriceData(coin_data_df, coin_name_bin)\n",
        "  coin_price_data_df = combineSentPrice(coin_data_df, coin_price_df)\n",
        "\n",
        "  lr = dataAnalysis(coin_price_data_df)\n",
        "  coin_today_df = getTwitterSentToday(coin_name)\n",
        "\n",
        "  range = getPredictedRange(lr, coin_today_df)\n",
        "\n",
        "  return range"
      ],
      "metadata": {
        "id": "YhIJm5jYedxp"
      },
      "execution_count": null,
      "outputs": []
    },
    {
      "cell_type": "markdown",
      "source": [
        "# Test"
      ],
      "metadata": {
        "id": "yvutdaVceJs-"
      }
    },
    {
      "cell_type": "code",
      "source": [
        "main('twitter','XRP','XRP')"
      ],
      "metadata": {
        "colab": {
          "base_uri": "https://localhost:8080/"
        },
        "id": "BB4MtXh0ZU-X",
        "outputId": "0f381051-6e90-4061-b7a0-135aff006eaa"
      },
      "execution_count": null,
      "outputs": [
        {
          "output_type": "stream",
          "name": "stderr",
          "text": [
            "/usr/local/lib/python3.7/dist-packages/ipykernel_launcher.py:6: SettingWithCopyWarning: \n",
            "A value is trying to be set on a copy of a slice from a DataFrame\n",
            "\n",
            "See the caveats in the documentation: https://pandas.pydata.org/pandas-docs/stable/user_guide/indexing.html#returning-a-view-versus-a-copy\n",
            "  \n"
          ]
        },
        {
          "output_type": "execute_result",
          "data": {
            "text/plain": [
              "(0.8257520090449704, 0.8172693155765967)"
            ]
          },
          "metadata": {},
          "execution_count": 29
        }
      ]
    },
    {
      "cell_type": "code",
      "source": [
        "main('news','ETH','ethereum')"
      ],
      "metadata": {
        "colab": {
          "base_uri": "https://localhost:8080/",
          "height": 398
        },
        "id": "vD-MPePuxziI",
        "outputId": "ebdcc3ea-6da2-41c6-c756-17ad4f2868aa"
      },
      "execution_count": null,
      "outputs": [
        {
          "output_type": "stream",
          "name": "stderr",
          "text": [
            "/usr/local/lib/python3.7/dist-packages/ipykernel_launcher.py:8: SettingWithCopyWarning: \n",
            "A value is trying to be set on a copy of a slice from a DataFrame\n",
            "\n",
            "See the caveats in the documentation: https://pandas.pydata.org/pandas-docs/stable/user_guide/indexing.html#returning-a-view-versus-a-copy\n",
            "  \n"
          ]
        },
        {
          "output_type": "error",
          "ename": "KeyboardInterrupt",
          "evalue": "ignored",
          "traceback": [
            "\u001b[0;31m---------------------------------------------------------------------------\u001b[0m",
            "\u001b[0;31mKeyboardInterrupt\u001b[0m                         Traceback (most recent call last)",
            "\u001b[0;32m<ipython-input-30-d550bcaa6b07>\u001b[0m in \u001b[0;36m<module>\u001b[0;34m()\u001b[0m\n\u001b[0;32m----> 1\u001b[0;31m \u001b[0mmain\u001b[0m\u001b[0;34m(\u001b[0m\u001b[0;34m'news'\u001b[0m\u001b[0;34m,\u001b[0m\u001b[0;34m'ETH'\u001b[0m\u001b[0;34m,\u001b[0m\u001b[0;34m'ethereum'\u001b[0m\u001b[0;34m)\u001b[0m\u001b[0;34m\u001b[0m\u001b[0;34m\u001b[0m\u001b[0m\n\u001b[0m",
            "\u001b[0;32m<ipython-input-28-e44b17a937cd>\u001b[0m in \u001b[0;36mmain\u001b[0;34m(twitter_or_news, coin_symbol, coin_name)\u001b[0m\n\u001b[1;32m      4\u001b[0m   \u001b[0mcoin_name_bin\u001b[0m \u001b[0;34m=\u001b[0m \u001b[0mcoin_symbol\u001b[0m \u001b[0;34m+\u001b[0m \u001b[0;34m'USDT'\u001b[0m\u001b[0;34m\u001b[0m\u001b[0;34m\u001b[0m\u001b[0m\n\u001b[1;32m      5\u001b[0m   \u001b[0mcoin_price_df\u001b[0m \u001b[0;34m=\u001b[0m \u001b[0mgetPriceData\u001b[0m\u001b[0;34m(\u001b[0m\u001b[0mcoin_data_df\u001b[0m\u001b[0;34m,\u001b[0m \u001b[0mcoin_name_bin\u001b[0m\u001b[0;34m)\u001b[0m\u001b[0;34m\u001b[0m\u001b[0;34m\u001b[0m\u001b[0m\n\u001b[0;32m----> 6\u001b[0;31m   \u001b[0mcoin_price_data_df\u001b[0m \u001b[0;34m=\u001b[0m \u001b[0mcombineSentPrice\u001b[0m\u001b[0;34m(\u001b[0m\u001b[0mcoin_data_df\u001b[0m\u001b[0;34m,\u001b[0m \u001b[0mcoin_price_df\u001b[0m\u001b[0;34m)\u001b[0m\u001b[0;34m\u001b[0m\u001b[0;34m\u001b[0m\u001b[0m\n\u001b[0m\u001b[1;32m      7\u001b[0m \u001b[0;34m\u001b[0m\u001b[0m\n\u001b[1;32m      8\u001b[0m   \u001b[0mlr\u001b[0m \u001b[0;34m=\u001b[0m \u001b[0mdataAnalysis\u001b[0m\u001b[0;34m(\u001b[0m\u001b[0mcoin_price_data_df\u001b[0m\u001b[0;34m)\u001b[0m\u001b[0;34m\u001b[0m\u001b[0;34m\u001b[0m\u001b[0m\n",
            "\u001b[0;32m<ipython-input-21-853d93c26817>\u001b[0m in \u001b[0;36mcombineSentPrice\u001b[0;34m(coin_news_df, coin_price_df)\u001b[0m\n\u001b[1;32m      6\u001b[0m \u001b[0;34m\u001b[0m\u001b[0m\n\u001b[1;32m      7\u001b[0m   \u001b[0;32mfor\u001b[0m \u001b[0mi\u001b[0m \u001b[0;32min\u001b[0m \u001b[0mrange\u001b[0m\u001b[0;34m(\u001b[0m\u001b[0mlen\u001b[0m\u001b[0;34m(\u001b[0m\u001b[0mcoin_news_df\u001b[0m\u001b[0;34m)\u001b[0m\u001b[0;34m)\u001b[0m\u001b[0;34m:\u001b[0m\u001b[0;34m\u001b[0m\u001b[0;34m\u001b[0m\u001b[0m\n\u001b[0;32m----> 8\u001b[0;31m     \u001b[0mprice_row\u001b[0m \u001b[0;34m=\u001b[0m \u001b[0mcoin_price_df\u001b[0m\u001b[0;34m.\u001b[0m\u001b[0mloc\u001b[0m\u001b[0;34m[\u001b[0m\u001b[0mcoin_price_df\u001b[0m\u001b[0;34m[\u001b[0m\u001b[0;34m'Date'\u001b[0m\u001b[0;34m]\u001b[0m \u001b[0;34m==\u001b[0m \u001b[0mcoin_news_df\u001b[0m\u001b[0;34m[\u001b[0m\u001b[0;34m'Date'\u001b[0m\u001b[0;34m]\u001b[0m\u001b[0;34m[\u001b[0m\u001b[0mi\u001b[0m\u001b[0;34m]\u001b[0m\u001b[0;34m]\u001b[0m\u001b[0;34m\u001b[0m\u001b[0;34m\u001b[0m\u001b[0m\n\u001b[0m\u001b[1;32m      9\u001b[0m     \u001b[0;32mtry\u001b[0m\u001b[0;34m:\u001b[0m\u001b[0;34m\u001b[0m\u001b[0;34m\u001b[0m\u001b[0m\n\u001b[1;32m     10\u001b[0m       \u001b[0mprice_index\u001b[0m \u001b[0;34m=\u001b[0m \u001b[0mlist\u001b[0m\u001b[0;34m(\u001b[0m\u001b[0mprice_row\u001b[0m\u001b[0;34m.\u001b[0m\u001b[0mto_dict\u001b[0m\u001b[0;34m(\u001b[0m\u001b[0;34m)\u001b[0m\u001b[0;34m[\u001b[0m\u001b[0;34m'Price'\u001b[0m\u001b[0;34m]\u001b[0m\u001b[0;34m.\u001b[0m\u001b[0mkeys\u001b[0m\u001b[0;34m(\u001b[0m\u001b[0;34m)\u001b[0m\u001b[0;34m)\u001b[0m\u001b[0;34m[\u001b[0m\u001b[0;36m0\u001b[0m\u001b[0;34m]\u001b[0m\u001b[0;34m\u001b[0m\u001b[0;34m\u001b[0m\u001b[0m\n",
            "\u001b[0;32m/usr/local/lib/python3.7/dist-packages/pandas/core/indexing.py\u001b[0m in \u001b[0;36m__getitem__\u001b[0;34m(self, key)\u001b[0m\n\u001b[1;32m    877\u001b[0m \u001b[0;34m\u001b[0m\u001b[0m\n\u001b[1;32m    878\u001b[0m             \u001b[0mmaybe_callable\u001b[0m \u001b[0;34m=\u001b[0m \u001b[0mcom\u001b[0m\u001b[0;34m.\u001b[0m\u001b[0mapply_if_callable\u001b[0m\u001b[0;34m(\u001b[0m\u001b[0mkey\u001b[0m\u001b[0;34m,\u001b[0m \u001b[0mself\u001b[0m\u001b[0;34m.\u001b[0m\u001b[0mobj\u001b[0m\u001b[0;34m)\u001b[0m\u001b[0;34m\u001b[0m\u001b[0;34m\u001b[0m\u001b[0m\n\u001b[0;32m--> 879\u001b[0;31m             \u001b[0;32mreturn\u001b[0m \u001b[0mself\u001b[0m\u001b[0;34m.\u001b[0m\u001b[0m_getitem_axis\u001b[0m\u001b[0;34m(\u001b[0m\u001b[0mmaybe_callable\u001b[0m\u001b[0;34m,\u001b[0m \u001b[0maxis\u001b[0m\u001b[0;34m=\u001b[0m\u001b[0maxis\u001b[0m\u001b[0;34m)\u001b[0m\u001b[0;34m\u001b[0m\u001b[0;34m\u001b[0m\u001b[0m\n\u001b[0m\u001b[1;32m    880\u001b[0m \u001b[0;34m\u001b[0m\u001b[0m\n\u001b[1;32m    881\u001b[0m     \u001b[0;32mdef\u001b[0m \u001b[0m_is_scalar_access\u001b[0m\u001b[0;34m(\u001b[0m\u001b[0mself\u001b[0m\u001b[0;34m,\u001b[0m \u001b[0mkey\u001b[0m\u001b[0;34m:\u001b[0m \u001b[0mTuple\u001b[0m\u001b[0;34m)\u001b[0m\u001b[0;34m:\u001b[0m\u001b[0;34m\u001b[0m\u001b[0;34m\u001b[0m\u001b[0m\n",
            "\u001b[0;32m/usr/local/lib/python3.7/dist-packages/pandas/core/indexing.py\u001b[0m in \u001b[0;36m_getitem_axis\u001b[0;34m(self, key, axis)\u001b[0m\n\u001b[1;32m   1088\u001b[0m             \u001b[0;32mreturn\u001b[0m \u001b[0mself\u001b[0m\u001b[0;34m.\u001b[0m\u001b[0m_get_slice_axis\u001b[0m\u001b[0;34m(\u001b[0m\u001b[0mkey\u001b[0m\u001b[0;34m,\u001b[0m \u001b[0maxis\u001b[0m\u001b[0;34m=\u001b[0m\u001b[0maxis\u001b[0m\u001b[0;34m)\u001b[0m\u001b[0;34m\u001b[0m\u001b[0;34m\u001b[0m\u001b[0m\n\u001b[1;32m   1089\u001b[0m         \u001b[0;32melif\u001b[0m \u001b[0mcom\u001b[0m\u001b[0;34m.\u001b[0m\u001b[0mis_bool_indexer\u001b[0m\u001b[0;34m(\u001b[0m\u001b[0mkey\u001b[0m\u001b[0;34m)\u001b[0m\u001b[0;34m:\u001b[0m\u001b[0;34m\u001b[0m\u001b[0;34m\u001b[0m\u001b[0m\n\u001b[0;32m-> 1090\u001b[0;31m             \u001b[0;32mreturn\u001b[0m \u001b[0mself\u001b[0m\u001b[0;34m.\u001b[0m\u001b[0m_getbool_axis\u001b[0m\u001b[0;34m(\u001b[0m\u001b[0mkey\u001b[0m\u001b[0;34m,\u001b[0m \u001b[0maxis\u001b[0m\u001b[0;34m=\u001b[0m\u001b[0maxis\u001b[0m\u001b[0;34m)\u001b[0m\u001b[0;34m\u001b[0m\u001b[0;34m\u001b[0m\u001b[0m\n\u001b[0m\u001b[1;32m   1091\u001b[0m         \u001b[0;32melif\u001b[0m \u001b[0mis_list_like_indexer\u001b[0m\u001b[0;34m(\u001b[0m\u001b[0mkey\u001b[0m\u001b[0;34m)\u001b[0m\u001b[0;34m:\u001b[0m\u001b[0;34m\u001b[0m\u001b[0;34m\u001b[0m\u001b[0m\n\u001b[1;32m   1092\u001b[0m \u001b[0;34m\u001b[0m\u001b[0m\n",
            "\u001b[0;32m/usr/local/lib/python3.7/dist-packages/pandas/core/indexing.py\u001b[0m in \u001b[0;36m_getbool_axis\u001b[0;34m(self, key, axis)\u001b[0m\n\u001b[1;32m    896\u001b[0m         \u001b[0mkey\u001b[0m \u001b[0;34m=\u001b[0m \u001b[0mcheck_bool_indexer\u001b[0m\u001b[0;34m(\u001b[0m\u001b[0mlabels\u001b[0m\u001b[0;34m,\u001b[0m \u001b[0mkey\u001b[0m\u001b[0;34m)\u001b[0m\u001b[0;34m\u001b[0m\u001b[0;34m\u001b[0m\u001b[0m\n\u001b[1;32m    897\u001b[0m         \u001b[0minds\u001b[0m \u001b[0;34m=\u001b[0m \u001b[0mkey\u001b[0m\u001b[0;34m.\u001b[0m\u001b[0mnonzero\u001b[0m\u001b[0;34m(\u001b[0m\u001b[0;34m)\u001b[0m\u001b[0;34m[\u001b[0m\u001b[0;36m0\u001b[0m\u001b[0;34m]\u001b[0m\u001b[0;34m\u001b[0m\u001b[0;34m\u001b[0m\u001b[0m\n\u001b[0;32m--> 898\u001b[0;31m         \u001b[0;32mreturn\u001b[0m \u001b[0mself\u001b[0m\u001b[0;34m.\u001b[0m\u001b[0mobj\u001b[0m\u001b[0;34m.\u001b[0m\u001b[0m_take_with_is_copy\u001b[0m\u001b[0;34m(\u001b[0m\u001b[0minds\u001b[0m\u001b[0;34m,\u001b[0m \u001b[0maxis\u001b[0m\u001b[0;34m=\u001b[0m\u001b[0maxis\u001b[0m\u001b[0;34m)\u001b[0m\u001b[0;34m\u001b[0m\u001b[0;34m\u001b[0m\u001b[0m\n\u001b[0m\u001b[1;32m    899\u001b[0m \u001b[0;34m\u001b[0m\u001b[0m\n\u001b[1;32m    900\u001b[0m \u001b[0;34m\u001b[0m\u001b[0m\n",
            "\u001b[0;32m/usr/local/lib/python3.7/dist-packages/pandas/core/generic.py\u001b[0m in \u001b[0;36m_take_with_is_copy\u001b[0;34m(self, indices, axis)\u001b[0m\n\u001b[1;32m   3361\u001b[0m         \u001b[0mSee\u001b[0m \u001b[0mthe\u001b[0m \u001b[0mdocstring\u001b[0m \u001b[0mof\u001b[0m\u001b[0;31m \u001b[0m\u001b[0;31m`\u001b[0m\u001b[0mtake\u001b[0m\u001b[0;31m`\u001b[0m \u001b[0;32mfor\u001b[0m \u001b[0mfull\u001b[0m \u001b[0mexplanation\u001b[0m \u001b[0mof\u001b[0m \u001b[0mthe\u001b[0m \u001b[0mparameters\u001b[0m\u001b[0;34m.\u001b[0m\u001b[0;34m\u001b[0m\u001b[0;34m\u001b[0m\u001b[0m\n\u001b[1;32m   3362\u001b[0m         \"\"\"\n\u001b[0;32m-> 3363\u001b[0;31m         \u001b[0mresult\u001b[0m \u001b[0;34m=\u001b[0m \u001b[0mself\u001b[0m\u001b[0;34m.\u001b[0m\u001b[0mtake\u001b[0m\u001b[0;34m(\u001b[0m\u001b[0mindices\u001b[0m\u001b[0;34m=\u001b[0m\u001b[0mindices\u001b[0m\u001b[0;34m,\u001b[0m \u001b[0maxis\u001b[0m\u001b[0;34m=\u001b[0m\u001b[0maxis\u001b[0m\u001b[0;34m)\u001b[0m\u001b[0;34m\u001b[0m\u001b[0;34m\u001b[0m\u001b[0m\n\u001b[0m\u001b[1;32m   3364\u001b[0m         \u001b[0;31m# Maybe set copy if we didn't actually change the index.\u001b[0m\u001b[0;34m\u001b[0m\u001b[0;34m\u001b[0m\u001b[0;34m\u001b[0m\u001b[0m\n\u001b[1;32m   3365\u001b[0m         \u001b[0;32mif\u001b[0m \u001b[0;32mnot\u001b[0m \u001b[0mresult\u001b[0m\u001b[0;34m.\u001b[0m\u001b[0m_get_axis\u001b[0m\u001b[0;34m(\u001b[0m\u001b[0maxis\u001b[0m\u001b[0;34m)\u001b[0m\u001b[0;34m.\u001b[0m\u001b[0mequals\u001b[0m\u001b[0;34m(\u001b[0m\u001b[0mself\u001b[0m\u001b[0;34m.\u001b[0m\u001b[0m_get_axis\u001b[0m\u001b[0;34m(\u001b[0m\u001b[0maxis\u001b[0m\u001b[0;34m)\u001b[0m\u001b[0;34m)\u001b[0m\u001b[0;34m:\u001b[0m\u001b[0;34m\u001b[0m\u001b[0;34m\u001b[0m\u001b[0m\n",
            "\u001b[0;32m/usr/local/lib/python3.7/dist-packages/pandas/core/generic.py\u001b[0m in \u001b[0;36mtake\u001b[0;34m(self, indices, axis, is_copy, **kwargs)\u001b[0m\n\u001b[1;32m   3349\u001b[0m \u001b[0;34m\u001b[0m\u001b[0m\n\u001b[1;32m   3350\u001b[0m         new_data = self._mgr.take(\n\u001b[0;32m-> 3351\u001b[0;31m             \u001b[0mindices\u001b[0m\u001b[0;34m,\u001b[0m \u001b[0maxis\u001b[0m\u001b[0;34m=\u001b[0m\u001b[0mself\u001b[0m\u001b[0;34m.\u001b[0m\u001b[0m_get_block_manager_axis\u001b[0m\u001b[0;34m(\u001b[0m\u001b[0maxis\u001b[0m\u001b[0;34m)\u001b[0m\u001b[0;34m,\u001b[0m \u001b[0mverify\u001b[0m\u001b[0;34m=\u001b[0m\u001b[0;32mTrue\u001b[0m\u001b[0;34m\u001b[0m\u001b[0;34m\u001b[0m\u001b[0m\n\u001b[0m\u001b[1;32m   3352\u001b[0m         )\n\u001b[1;32m   3353\u001b[0m         \u001b[0;32mreturn\u001b[0m \u001b[0mself\u001b[0m\u001b[0;34m.\u001b[0m\u001b[0m_constructor\u001b[0m\u001b[0;34m(\u001b[0m\u001b[0mnew_data\u001b[0m\u001b[0;34m)\u001b[0m\u001b[0;34m.\u001b[0m\u001b[0m__finalize__\u001b[0m\u001b[0;34m(\u001b[0m\u001b[0mself\u001b[0m\u001b[0;34m,\u001b[0m \u001b[0mmethod\u001b[0m\u001b[0;34m=\u001b[0m\u001b[0;34m\"take\"\u001b[0m\u001b[0;34m)\u001b[0m\u001b[0;34m\u001b[0m\u001b[0;34m\u001b[0m\u001b[0m\n",
            "\u001b[0;32m/usr/local/lib/python3.7/dist-packages/pandas/core/internals/managers.py\u001b[0m in \u001b[0;36mtake\u001b[0;34m(self, indexer, axis, verify, convert)\u001b[0m\n\u001b[1;32m   1455\u001b[0m         \u001b[0mnew_labels\u001b[0m \u001b[0;34m=\u001b[0m \u001b[0mself\u001b[0m\u001b[0;34m.\u001b[0m\u001b[0maxes\u001b[0m\u001b[0;34m[\u001b[0m\u001b[0maxis\u001b[0m\u001b[0;34m]\u001b[0m\u001b[0;34m.\u001b[0m\u001b[0mtake\u001b[0m\u001b[0;34m(\u001b[0m\u001b[0mindexer\u001b[0m\u001b[0;34m)\u001b[0m\u001b[0;34m\u001b[0m\u001b[0;34m\u001b[0m\u001b[0m\n\u001b[1;32m   1456\u001b[0m         return self.reindex_indexer(\n\u001b[0;32m-> 1457\u001b[0;31m             \u001b[0mnew_axis\u001b[0m\u001b[0;34m=\u001b[0m\u001b[0mnew_labels\u001b[0m\u001b[0;34m,\u001b[0m \u001b[0mindexer\u001b[0m\u001b[0;34m=\u001b[0m\u001b[0mindexer\u001b[0m\u001b[0;34m,\u001b[0m \u001b[0maxis\u001b[0m\u001b[0;34m=\u001b[0m\u001b[0maxis\u001b[0m\u001b[0;34m,\u001b[0m \u001b[0mallow_dups\u001b[0m\u001b[0;34m=\u001b[0m\u001b[0;32mTrue\u001b[0m\u001b[0;34m\u001b[0m\u001b[0;34m\u001b[0m\u001b[0m\n\u001b[0m\u001b[1;32m   1458\u001b[0m         )\n\u001b[1;32m   1459\u001b[0m \u001b[0;34m\u001b[0m\u001b[0m\n",
            "\u001b[0;32m/usr/local/lib/python3.7/dist-packages/pandas/core/internals/managers.py\u001b[0m in \u001b[0;36mreindex_indexer\u001b[0;34m(self, new_axis, indexer, axis, fill_value, allow_dups, copy, consolidate)\u001b[0m\n\u001b[1;32m   1299\u001b[0m                     ),\n\u001b[1;32m   1300\u001b[0m                 )\n\u001b[0;32m-> 1301\u001b[0;31m                 \u001b[0;32mfor\u001b[0m \u001b[0mblk\u001b[0m \u001b[0;32min\u001b[0m \u001b[0mself\u001b[0m\u001b[0;34m.\u001b[0m\u001b[0mblocks\u001b[0m\u001b[0;34m\u001b[0m\u001b[0;34m\u001b[0m\u001b[0m\n\u001b[0m\u001b[1;32m   1302\u001b[0m             ]\n\u001b[1;32m   1303\u001b[0m \u001b[0;34m\u001b[0m\u001b[0m\n",
            "\u001b[0;32m/usr/local/lib/python3.7/dist-packages/pandas/core/internals/managers.py\u001b[0m in \u001b[0;36m<listcomp>\u001b[0;34m(.0)\u001b[0m\n\u001b[1;32m   1299\u001b[0m                     ),\n\u001b[1;32m   1300\u001b[0m                 )\n\u001b[0;32m-> 1301\u001b[0;31m                 \u001b[0;32mfor\u001b[0m \u001b[0mblk\u001b[0m \u001b[0;32min\u001b[0m \u001b[0mself\u001b[0m\u001b[0;34m.\u001b[0m\u001b[0mblocks\u001b[0m\u001b[0;34m\u001b[0m\u001b[0;34m\u001b[0m\u001b[0m\n\u001b[0m\u001b[1;32m   1302\u001b[0m             ]\n\u001b[1;32m   1303\u001b[0m \u001b[0;34m\u001b[0m\u001b[0m\n",
            "\u001b[0;32m/usr/local/lib/python3.7/dist-packages/pandas/core/internals/blocks.py\u001b[0m in \u001b[0;36mtake_nd\u001b[0;34m(self, indexer, axis, new_mgr_locs, fill_value)\u001b[0m\n\u001b[1;32m   1254\u001b[0m \u001b[0;34m\u001b[0m\u001b[0m\n\u001b[1;32m   1255\u001b[0m         new_values = algos.take_nd(\n\u001b[0;32m-> 1256\u001b[0;31m             \u001b[0mvalues\u001b[0m\u001b[0;34m,\u001b[0m \u001b[0mindexer\u001b[0m\u001b[0;34m,\u001b[0m \u001b[0maxis\u001b[0m\u001b[0;34m=\u001b[0m\u001b[0maxis\u001b[0m\u001b[0;34m,\u001b[0m \u001b[0mallow_fill\u001b[0m\u001b[0;34m=\u001b[0m\u001b[0mallow_fill\u001b[0m\u001b[0;34m,\u001b[0m \u001b[0mfill_value\u001b[0m\u001b[0;34m=\u001b[0m\u001b[0mfill_value\u001b[0m\u001b[0;34m\u001b[0m\u001b[0;34m\u001b[0m\u001b[0m\n\u001b[0m\u001b[1;32m   1257\u001b[0m         )\n\u001b[1;32m   1258\u001b[0m \u001b[0;34m\u001b[0m\u001b[0m\n",
            "\u001b[0;32m/usr/local/lib/python3.7/dist-packages/pandas/core/algorithms.py\u001b[0m in \u001b[0;36mtake_nd\u001b[0;34m(arr, indexer, axis, out, fill_value, allow_fill)\u001b[0m\n\u001b[1;32m   1691\u001b[0m             \u001b[0;31m# check for promotion based on types only (do this first because\u001b[0m\u001b[0;34m\u001b[0m\u001b[0;34m\u001b[0m\u001b[0;34m\u001b[0m\u001b[0m\n\u001b[1;32m   1692\u001b[0m             \u001b[0;31m# it's faster than computing a mask)\u001b[0m\u001b[0;34m\u001b[0m\u001b[0;34m\u001b[0m\u001b[0;34m\u001b[0m\u001b[0m\n\u001b[0;32m-> 1693\u001b[0;31m             \u001b[0mdtype\u001b[0m\u001b[0;34m,\u001b[0m \u001b[0mfill_value\u001b[0m \u001b[0;34m=\u001b[0m \u001b[0mmaybe_promote\u001b[0m\u001b[0;34m(\u001b[0m\u001b[0marr\u001b[0m\u001b[0;34m.\u001b[0m\u001b[0mdtype\u001b[0m\u001b[0;34m,\u001b[0m \u001b[0mfill_value\u001b[0m\u001b[0;34m)\u001b[0m\u001b[0;34m\u001b[0m\u001b[0;34m\u001b[0m\u001b[0m\n\u001b[0m\u001b[1;32m   1694\u001b[0m             \u001b[0;32mif\u001b[0m \u001b[0mdtype\u001b[0m \u001b[0;34m!=\u001b[0m \u001b[0marr\u001b[0m\u001b[0;34m.\u001b[0m\u001b[0mdtype\u001b[0m \u001b[0;32mand\u001b[0m \u001b[0;34m(\u001b[0m\u001b[0mout\u001b[0m \u001b[0;32mis\u001b[0m \u001b[0;32mNone\u001b[0m \u001b[0;32mor\u001b[0m \u001b[0mout\u001b[0m\u001b[0;34m.\u001b[0m\u001b[0mdtype\u001b[0m \u001b[0;34m!=\u001b[0m \u001b[0mdtype\u001b[0m\u001b[0;34m)\u001b[0m\u001b[0;34m:\u001b[0m\u001b[0;34m\u001b[0m\u001b[0;34m\u001b[0m\u001b[0m\n\u001b[1;32m   1695\u001b[0m                 \u001b[0;31m# check if promotion is actually required based on indexer\u001b[0m\u001b[0;34m\u001b[0m\u001b[0;34m\u001b[0m\u001b[0;34m\u001b[0m\u001b[0m\n",
            "\u001b[0;32m/usr/local/lib/python3.7/dist-packages/pandas/core/dtypes/cast.py\u001b[0m in \u001b[0;36mmaybe_promote\u001b[0;34m(dtype, fill_value)\u001b[0m\n\u001b[1;32m    587\u001b[0m \u001b[0;34m\u001b[0m\u001b[0m\n\u001b[1;32m    588\u001b[0m     \u001b[0;31m# in case we have a string that looked like a number\u001b[0m\u001b[0;34m\u001b[0m\u001b[0;34m\u001b[0m\u001b[0;34m\u001b[0m\u001b[0m\n\u001b[0;32m--> 589\u001b[0;31m     \u001b[0;32mif\u001b[0m \u001b[0mis_extension_array_dtype\u001b[0m\u001b[0;34m(\u001b[0m\u001b[0mdtype\u001b[0m\u001b[0;34m)\u001b[0m\u001b[0;34m:\u001b[0m\u001b[0;34m\u001b[0m\u001b[0;34m\u001b[0m\u001b[0m\n\u001b[0m\u001b[1;32m    590\u001b[0m         \u001b[0;32mpass\u001b[0m\u001b[0;34m\u001b[0m\u001b[0;34m\u001b[0m\u001b[0m\n\u001b[1;32m    591\u001b[0m     \u001b[0;32melif\u001b[0m \u001b[0missubclass\u001b[0m\u001b[0;34m(\u001b[0m\u001b[0mnp\u001b[0m\u001b[0;34m.\u001b[0m\u001b[0mdtype\u001b[0m\u001b[0;34m(\u001b[0m\u001b[0mdtype\u001b[0m\u001b[0;34m)\u001b[0m\u001b[0;34m.\u001b[0m\u001b[0mtype\u001b[0m\u001b[0;34m,\u001b[0m \u001b[0;34m(\u001b[0m\u001b[0mbytes\u001b[0m\u001b[0;34m,\u001b[0m \u001b[0mstr\u001b[0m\u001b[0;34m)\u001b[0m\u001b[0;34m)\u001b[0m\u001b[0;34m:\u001b[0m\u001b[0;34m\u001b[0m\u001b[0;34m\u001b[0m\u001b[0m\n",
            "\u001b[0;32m/usr/local/lib/python3.7/dist-packages/pandas/core/dtypes/common.py\u001b[0m in \u001b[0;36mis_extension_array_dtype\u001b[0;34m(arr_or_dtype)\u001b[0m\n\u001b[1;32m   1504\u001b[0m     \"\"\"\n\u001b[1;32m   1505\u001b[0m     \u001b[0mdtype\u001b[0m \u001b[0;34m=\u001b[0m \u001b[0mgetattr\u001b[0m\u001b[0;34m(\u001b[0m\u001b[0marr_or_dtype\u001b[0m\u001b[0;34m,\u001b[0m \u001b[0;34m\"dtype\"\u001b[0m\u001b[0;34m,\u001b[0m \u001b[0marr_or_dtype\u001b[0m\u001b[0;34m)\u001b[0m\u001b[0;34m\u001b[0m\u001b[0;34m\u001b[0m\u001b[0m\n\u001b[0;32m-> 1506\u001b[0;31m     \u001b[0;32mreturn\u001b[0m \u001b[0misinstance\u001b[0m\u001b[0;34m(\u001b[0m\u001b[0mdtype\u001b[0m\u001b[0;34m,\u001b[0m \u001b[0mExtensionDtype\u001b[0m\u001b[0;34m)\u001b[0m \u001b[0;32mor\u001b[0m \u001b[0mregistry\u001b[0m\u001b[0;34m.\u001b[0m\u001b[0mfind\u001b[0m\u001b[0;34m(\u001b[0m\u001b[0mdtype\u001b[0m\u001b[0;34m)\u001b[0m \u001b[0;32mis\u001b[0m \u001b[0;32mnot\u001b[0m \u001b[0;32mNone\u001b[0m\u001b[0;34m\u001b[0m\u001b[0;34m\u001b[0m\u001b[0m\n\u001b[0m\u001b[1;32m   1507\u001b[0m \u001b[0;34m\u001b[0m\u001b[0m\n\u001b[1;32m   1508\u001b[0m \u001b[0;34m\u001b[0m\u001b[0m\n",
            "\u001b[0;31mKeyboardInterrupt\u001b[0m: "
          ]
        }
      ]
    }
  ]
}